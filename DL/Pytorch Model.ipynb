{
 "cells": [
  {
   "attachments": {},
   "cell_type": "markdown",
   "metadata": {},
   "source": [
    "# PyTorch"
   ]
  },
  {
   "attachments": {},
   "cell_type": "markdown",
   "metadata": {},
   "source": [
    "## Basic model"
   ]
  },
  {
   "attachments": {},
   "cell_type": "markdown",
   "metadata": {},
   "source": [
    "### Dense Layer"
   ]
  },
  {
   "cell_type": "code",
   "execution_count": 1,
   "metadata": {},
   "outputs": [],
   "source": [
    "import torch\n",
    "import torch.nn as nn\n",
    "import torch.nn.functional as F"
   ]
  },
  {
   "cell_type": "code",
   "execution_count": 2,
   "metadata": {},
   "outputs": [
    {
     "name": "stdout",
     "output_type": "stream",
     "text": [
      "MyModel(\n",
      "  (Dense_Layer): Sequential(\n",
      "    (0): Linear(in_features=10, out_features=10, bias=True)\n",
      "    (1): ReLU()\n",
      "  )\n",
      ")\n"
     ]
    }
   ],
   "source": [
    "class MyModel(nn.Module):\n",
    "    def __init__(self): # class 초기화\n",
    "        super().__init__() # 부모 클래스(nn.Module의 __init__()) 상속\n",
    "        dense = nn.Linear(10, 10) # dense layer: 10개의 input, 10개의 output\n",
    "        nn.init.kaiming_normal_(dense.weight) # weight 초기화(He 초기화: ReLU 활성화 함수 사용 시)\n",
    "        self.Dense_Layer = nn.Sequential(dense, nn.ReLU()) # sequential: 순차적으로 층을 쌓음(dense layer, ReLU(activation)))\n",
    "    \n",
    "    def forward(self, x): # forward propagation\n",
    "        return self.Dense_Layer(x) # Dense_Layer에 x를 넣어서 결과를 반환\n",
    "    \n",
    "print(MyModel())"
   ]
  },
  {
   "attachments": {},
   "cell_type": "markdown",
   "metadata": {},
   "source": [
    "### 함수형 API(like tensorflow/keras)"
   ]
  },
  {
   "cell_type": "code",
   "execution_count": 3,
   "metadata": {},
   "outputs": [
    {
     "data": {
      "text/plain": [
       "MyModel(\n",
       "  (extractor1): Sequential(\n",
       "    (0): Linear(in_features=64, out_features=300, bias=True)\n",
       "    (1): ReLU()\n",
       "    (2): Linear(in_features=300, out_features=100, bias=True)\n",
       "    (3): ReLU()\n",
       "  )\n",
       "  (extractor2): Sequential(\n",
       "    (0): Linear(in_features=64, out_features=200, bias=True)\n",
       "    (1): ReLU()\n",
       "  )\n",
       "  (classifier): Sequential(\n",
       "    (0): Linear(in_features=300, out_features=100, bias=True)\n",
       "    (1): ReLU()\n",
       "    (2): Linear(in_features=100, out_features=10, bias=True)\n",
       "    (3): Softmax(dim=None)\n",
       "  )\n",
       ")"
      ]
     },
     "execution_count": 3,
     "metadata": {},
     "output_type": "execute_result"
    }
   ],
   "source": [
    "class MyModel(nn.Module):\n",
    "    def __init__(self, input_size = 64, activation = nn.ReLU):\n",
    "        super(MyModel, self).__init__() # 부모 클래스(nn.Module의 __init__()) 상속\n",
    "        # sequential: 순차적으로 층을 쌓음\n",
    "        self.extractor1 = nn.Sequential(nn.Linear(input_size, 300),\n",
    "                                                    activation(),\n",
    "                                                    nn.Linear(300, 100),\n",
    "                                                    activation())\n",
    "        \n",
    "        self.extractor2 = nn.Sequential(nn.Linear(input_size, 200),\n",
    "                                                    activation())\n",
    "        \n",
    "        self.classifier = nn.Sequential(nn.Linear(300, 100),\n",
    "                                        activation(),\n",
    "                                        nn.Linear(100, 10),\n",
    "                                        nn.Softmax())\n",
    "    \n",
    "    def forward(self, inputs):\n",
    "        x1 = self.extractor1(inputs) # extractor1에 inputs를 넣어서 결과를 반환\n",
    "        x2 = self.extractor2(inputs) # extractor2에 inputs를 넣어서 결과를 반환\n",
    "        x = torch.cat((x1, x2), dim = 1) # x1과 x2를 합침\n",
    "        x = self.classifier(x) # classifier에 x를 넣어서 결과를 반환\n",
    "        return x\n",
    "    \n",
    "model = MyModel()\n",
    "model"
   ]
  },
  {
   "cell_type": "code",
   "execution_count": 4,
   "metadata": {},
   "outputs": [
    {
     "name": "stderr",
     "output_type": "stream",
     "text": [
      "/Users/yunho/opt/anaconda3/envs/basicstudy/lib/python3.8/site-packages/torch/nn/modules/container.py:204: UserWarning: Implicit dimension choice for softmax has been deprecated. Change the call to include dim=X as an argument.\n",
      "  input = module(input)\n"
     ]
    },
    {
     "data": {
      "text/plain": [
       "==========================================================================================\n",
       "Layer (type:depth-idx)                   Output Shape              Param #\n",
       "==========================================================================================\n",
       "MyModel                                  [1, 10]                   --\n",
       "├─Sequential: 1-1                        [1, 100]                  --\n",
       "│    └─Linear: 2-1                       [1, 300]                  19,500\n",
       "│    └─ReLU: 2-2                         [1, 300]                  --\n",
       "│    └─Linear: 2-3                       [1, 100]                  30,100\n",
       "│    └─ReLU: 2-4                         [1, 100]                  --\n",
       "├─Sequential: 1-2                        [1, 200]                  --\n",
       "│    └─Linear: 2-5                       [1, 200]                  13,000\n",
       "│    └─ReLU: 2-6                         [1, 200]                  --\n",
       "├─Sequential: 1-3                        [1, 10]                   --\n",
       "│    └─Linear: 2-7                       [1, 100]                  30,100\n",
       "│    └─ReLU: 2-8                         [1, 100]                  --\n",
       "│    └─Linear: 2-9                       [1, 10]                   1,010\n",
       "│    └─Softmax: 2-10                     [1, 10]                   --\n",
       "==========================================================================================\n",
       "Total params: 93,710\n",
       "Trainable params: 93,710\n",
       "Non-trainable params: 0\n",
       "Total mult-adds (M): 0.09\n",
       "==========================================================================================\n",
       "Input size (MB): 0.00\n",
       "Forward/backward pass size (MB): 0.01\n",
       "Params size (MB): 0.37\n",
       "Estimated Total Size (MB): 0.38\n",
       "=========================================================================================="
      ]
     },
     "execution_count": 4,
     "metadata": {},
     "output_type": "execute_result"
    }
   ],
   "source": [
    "from torchinfo import summary\n",
    "\n",
    "summary(model, input_size = (1, 64))"
   ]
  },
  {
   "cell_type": "code",
   "execution_count": 5,
   "metadata": {},
   "outputs": [
    {
     "data": {
      "image/svg+xml": "<?xml version=\"1.0\" encoding=\"UTF-8\" standalone=\"no\"?>\n<!DOCTYPE svg PUBLIC \"-//W3C//DTD SVG 1.1//EN\"\n \"http://www.w3.org/Graphics/SVG/1.1/DTD/svg11.dtd\">\n<!-- Generated by graphviz version 2.50.0 (0)\n -->\n<!-- Pages: 1 -->\n<svg width=\"674pt\" height=\"787pt\"\n viewBox=\"0.00 0.00 674.00 787.00\" xmlns=\"http://www.w3.org/2000/svg\" xmlns:xlink=\"http://www.w3.org/1999/xlink\">\n<g id=\"graph0\" class=\"graph\" transform=\"scale(1 1) rotate(0) translate(4 783)\">\n<polygon fill=\"white\" stroke=\"transparent\" points=\"-4,4 -4,-783 670,-783 670,4 -4,4\"/>\n<!-- 5214856672 -->\n<g id=\"node1\" class=\"node\">\n<title>5214856672</title>\n<polygon fill=\"#caff70\" stroke=\"black\" points=\"436,-31 371,-31 371,0 436,0 436,-31\"/>\n<text text-anchor=\"middle\" x=\"403.5\" y=\"-7\" font-family=\"monospace\" font-size=\"10.00\"> (1, 10)</text>\n</g>\n<!-- 5214844624 -->\n<g id=\"node2\" class=\"node\">\n<title>5214844624</title>\n<polygon fill=\"lightgrey\" stroke=\"black\" points=\"460,-86 347,-86 347,-67 460,-67 460,-86\"/>\n<text text-anchor=\"middle\" x=\"403.5\" y=\"-74\" font-family=\"monospace\" font-size=\"10.00\">SoftmaxBackward0</text>\n</g>\n<!-- 5214844624&#45;&gt;5214856672 -->\n<g id=\"edge36\" class=\"edge\">\n<title>5214844624&#45;&gt;5214856672</title>\n<path fill=\"none\" stroke=\"black\" d=\"M403.5,-66.79C403.5,-60.07 403.5,-50.4 403.5,-41.34\"/>\n<polygon fill=\"black\" stroke=\"black\" points=\"407,-41.19 403.5,-31.19 400,-41.19 407,-41.19\"/>\n</g>\n<!-- 5214844720 -->\n<g id=\"node3\" class=\"node\">\n<title>5214844720</title>\n<polygon fill=\"lightgrey\" stroke=\"black\" points=\"454,-141 353,-141 353,-122 454,-122 454,-141\"/>\n<text text-anchor=\"middle\" x=\"403.5\" y=\"-129\" font-family=\"monospace\" font-size=\"10.00\">AddmmBackward0</text>\n</g>\n<!-- 5214844720&#45;&gt;5214844624 -->\n<g id=\"edge1\" class=\"edge\">\n<title>5214844720&#45;&gt;5214844624</title>\n<path fill=\"none\" stroke=\"black\" d=\"M403.5,-121.75C403.5,-114.8 403.5,-104.85 403.5,-96.13\"/>\n<polygon fill=\"black\" stroke=\"black\" points=\"407,-96.09 403.5,-86.09 400,-96.09 407,-96.09\"/>\n</g>\n<!-- 5214844480 -->\n<g id=\"node4\" class=\"node\">\n<title>5214844480</title>\n<polygon fill=\"lightgrey\" stroke=\"black\" points=\"332,-196 231,-196 231,-177 332,-177 332,-196\"/>\n<text text-anchor=\"middle\" x=\"281.5\" y=\"-184\" font-family=\"monospace\" font-size=\"10.00\">AccumulateGrad</text>\n</g>\n<!-- 5214844480&#45;&gt;5214844720 -->\n<g id=\"edge2\" class=\"edge\">\n<title>5214844480&#45;&gt;5214844720</title>\n<path fill=\"none\" stroke=\"black\" d=\"M301.1,-176.98C320.82,-168.42 351.45,-155.11 374.08,-145.28\"/>\n<polygon fill=\"black\" stroke=\"black\" points=\"375.76,-148.37 383.54,-141.17 372.98,-141.94 375.76,-148.37\"/>\n</g>\n<!-- 5213691632 -->\n<g id=\"node5\" class=\"node\">\n<title>5213691632</title>\n<polygon fill=\"lightblue\" stroke=\"black\" points=\"335,-262 216,-262 216,-232 335,-232 335,-262\"/>\n<text text-anchor=\"middle\" x=\"275.5\" y=\"-250\" font-family=\"monospace\" font-size=\"10.00\">classifier.2.bias</text>\n<text text-anchor=\"middle\" x=\"275.5\" y=\"-239\" font-family=\"monospace\" font-size=\"10.00\"> (10)</text>\n</g>\n<!-- 5213691632&#45;&gt;5214844480 -->\n<g id=\"edge3\" class=\"edge\">\n<title>5213691632&#45;&gt;5214844480</title>\n<path fill=\"none\" stroke=\"black\" d=\"M276.95,-231.84C277.73,-224.21 278.71,-214.7 279.56,-206.45\"/>\n<polygon fill=\"black\" stroke=\"black\" points=\"283.06,-206.57 280.6,-196.27 276.1,-205.86 283.06,-206.57\"/>\n</g>\n<!-- 5214844336 -->\n<g id=\"node6\" class=\"node\">\n<title>5214844336</title>\n<polygon fill=\"lightgrey\" stroke=\"black\" points=\"451,-196 356,-196 356,-177 451,-177 451,-196\"/>\n<text text-anchor=\"middle\" x=\"403.5\" y=\"-184\" font-family=\"monospace\" font-size=\"10.00\">ReluBackward0</text>\n</g>\n<!-- 5214844336&#45;&gt;5214844720 -->\n<g id=\"edge4\" class=\"edge\">\n<title>5214844336&#45;&gt;5214844720</title>\n<path fill=\"none\" stroke=\"black\" d=\"M403.5,-176.75C403.5,-169.8 403.5,-159.85 403.5,-151.13\"/>\n<polygon fill=\"black\" stroke=\"black\" points=\"407,-151.09 403.5,-141.09 400,-151.09 407,-151.09\"/>\n</g>\n<!-- 5214844768 -->\n<g id=\"node7\" class=\"node\">\n<title>5214844768</title>\n<polygon fill=\"lightgrey\" stroke=\"black\" points=\"454,-256.5 353,-256.5 353,-237.5 454,-237.5 454,-256.5\"/>\n<text text-anchor=\"middle\" x=\"403.5\" y=\"-244.5\" font-family=\"monospace\" font-size=\"10.00\">AddmmBackward0</text>\n</g>\n<!-- 5214844768&#45;&gt;5214844336 -->\n<g id=\"edge5\" class=\"edge\">\n<title>5214844768&#45;&gt;5214844336</title>\n<path fill=\"none\" stroke=\"black\" d=\"M403.5,-237.37C403.5,-229.25 403.5,-216.81 403.5,-206.39\"/>\n<polygon fill=\"black\" stroke=\"black\" points=\"407,-206.17 403.5,-196.17 400,-206.17 407,-206.17\"/>\n</g>\n<!-- 5214844960 -->\n<g id=\"node8\" class=\"node\">\n<title>5214844960</title>\n<polygon fill=\"lightgrey\" stroke=\"black\" points=\"253,-322.5 152,-322.5 152,-303.5 253,-303.5 253,-322.5\"/>\n<text text-anchor=\"middle\" x=\"202.5\" y=\"-310.5\" font-family=\"monospace\" font-size=\"10.00\">AccumulateGrad</text>\n</g>\n<!-- 5214844960&#45;&gt;5214844768 -->\n<g id=\"edge6\" class=\"edge\">\n<title>5214844960&#45;&gt;5214844768</title>\n<path fill=\"none\" stroke=\"black\" d=\"M229.61,-303.37C265.07,-292.08 327.34,-272.25 366.95,-259.64\"/>\n<polygon fill=\"black\" stroke=\"black\" points=\"368.03,-262.97 376.5,-256.6 365.91,-256.3 368.03,-262.97\"/>\n</g>\n<!-- 5213691472 -->\n<g id=\"node9\" class=\"node\">\n<title>5213691472</title>\n<polygon fill=\"lightblue\" stroke=\"black\" points=\"256,-394 137,-394 137,-364 256,-364 256,-394\"/>\n<text text-anchor=\"middle\" x=\"196.5\" y=\"-382\" font-family=\"monospace\" font-size=\"10.00\">classifier.0.bias</text>\n<text text-anchor=\"middle\" x=\"196.5\" y=\"-371\" font-family=\"monospace\" font-size=\"10.00\"> (100)</text>\n</g>\n<!-- 5213691472&#45;&gt;5214844960 -->\n<g id=\"edge7\" class=\"edge\">\n<title>5213691472&#45;&gt;5214844960</title>\n<path fill=\"none\" stroke=\"black\" d=\"M197.83,-363.8C198.68,-354.7 199.8,-342.79 200.73,-332.9\"/>\n<polygon fill=\"black\" stroke=\"black\" points=\"204.22,-333.13 201.67,-322.84 197.25,-332.47 204.22,-333.13\"/>\n</g>\n<!-- 5214844912 -->\n<g id=\"node10\" class=\"node\">\n<title>5214844912</title>\n<polygon fill=\"lightgrey\" stroke=\"black\" points=\"422,-322.5 333,-322.5 333,-303.5 422,-303.5 422,-322.5\"/>\n<text text-anchor=\"middle\" x=\"377.5\" y=\"-310.5\" font-family=\"monospace\" font-size=\"10.00\">CatBackward0</text>\n</g>\n<!-- 5214844912&#45;&gt;5214844768 -->\n<g id=\"edge8\" class=\"edge\">\n<title>5214844912&#45;&gt;5214844768</title>\n<path fill=\"none\" stroke=\"black\" d=\"M381.01,-303.37C384.82,-293.97 391.04,-278.67 395.97,-266.53\"/>\n<polygon fill=\"black\" stroke=\"black\" points=\"399.36,-267.49 399.88,-256.91 392.88,-264.85 399.36,-267.49\"/>\n</g>\n<!-- 5214845056 -->\n<g id=\"node11\" class=\"node\">\n<title>5214845056</title>\n<polygon fill=\"lightgrey\" stroke=\"black\" points=\"369,-388.5 274,-388.5 274,-369.5 369,-369.5 369,-388.5\"/>\n<text text-anchor=\"middle\" x=\"321.5\" y=\"-376.5\" font-family=\"monospace\" font-size=\"10.00\">ReluBackward0</text>\n</g>\n<!-- 5214845056&#45;&gt;5214844912 -->\n<g id=\"edge9\" class=\"edge\">\n<title>5214845056&#45;&gt;5214844912</title>\n<path fill=\"none\" stroke=\"black\" d=\"M329.05,-369.37C337.69,-359.5 352.03,-343.11 362.87,-330.72\"/>\n<polygon fill=\"black\" stroke=\"black\" points=\"365.76,-332.74 369.71,-322.91 360.49,-328.13 365.76,-332.74\"/>\n</g>\n<!-- 5214845296 -->\n<g id=\"node12\" class=\"node\">\n<title>5214845296</title>\n<polygon fill=\"lightgrey\" stroke=\"black\" points=\"296,-454.5 195,-454.5 195,-435.5 296,-435.5 296,-454.5\"/>\n<text text-anchor=\"middle\" x=\"245.5\" y=\"-442.5\" font-family=\"monospace\" font-size=\"10.00\">AddmmBackward0</text>\n</g>\n<!-- 5214845296&#45;&gt;5214845056 -->\n<g id=\"edge10\" class=\"edge\">\n<title>5214845296&#45;&gt;5214845056</title>\n<path fill=\"none\" stroke=\"black\" d=\"M255.75,-435.37C267.81,-425.21 288.06,-408.16 302.91,-395.65\"/>\n<polygon fill=\"black\" stroke=\"black\" points=\"305.53,-398.02 310.93,-388.91 301.02,-392.67 305.53,-398.02\"/>\n</g>\n<!-- 5214845440 -->\n<g id=\"node13\" class=\"node\">\n<title>5214845440</title>\n<polygon fill=\"lightgrey\" stroke=\"black\" points=\"114,-515 13,-515 13,-496 114,-496 114,-515\"/>\n<text text-anchor=\"middle\" x=\"63.5\" y=\"-503\" font-family=\"monospace\" font-size=\"10.00\">AccumulateGrad</text>\n</g>\n<!-- 5214845440&#45;&gt;5214845296 -->\n<g id=\"edge11\" class=\"edge\">\n<title>5214845440&#45;&gt;5214845296</title>\n<path fill=\"none\" stroke=\"black\" d=\"M89.96,-495.99C121.37,-485.9 173.9,-469.01 209.12,-457.69\"/>\n<polygon fill=\"black\" stroke=\"black\" points=\"210.55,-460.91 219,-454.52 208.41,-454.24 210.55,-460.91\"/>\n</g>\n<!-- 5213691232 -->\n<g id=\"node14\" class=\"node\">\n<title>5213691232</title>\n<polygon fill=\"lightblue\" stroke=\"black\" points=\"119,-581 0,-581 0,-551 119,-551 119,-581\"/>\n<text text-anchor=\"middle\" x=\"59.5\" y=\"-569\" font-family=\"monospace\" font-size=\"10.00\">extractor1.2.bias</text>\n<text text-anchor=\"middle\" x=\"59.5\" y=\"-558\" font-family=\"monospace\" font-size=\"10.00\"> (100)</text>\n</g>\n<!-- 5213691232&#45;&gt;5214845440 -->\n<g id=\"edge12\" class=\"edge\">\n<title>5213691232&#45;&gt;5214845440</title>\n<path fill=\"none\" stroke=\"black\" d=\"M60.47,-550.84C60.99,-543.21 61.64,-533.7 62.2,-525.45\"/>\n<polygon fill=\"black\" stroke=\"black\" points=\"65.71,-525.48 62.9,-515.27 58.73,-525 65.71,-525.48\"/>\n</g>\n<!-- 5214845392 -->\n<g id=\"node15\" class=\"node\">\n<title>5214845392</title>\n<polygon fill=\"lightgrey\" stroke=\"black\" points=\"240,-515 145,-515 145,-496 240,-496 240,-515\"/>\n<text text-anchor=\"middle\" x=\"192.5\" y=\"-503\" font-family=\"monospace\" font-size=\"10.00\">ReluBackward0</text>\n</g>\n<!-- 5214845392&#45;&gt;5214845296 -->\n<g id=\"edge13\" class=\"edge\">\n<title>5214845392&#45;&gt;5214845296</title>\n<path fill=\"none\" stroke=\"black\" d=\"M200.32,-495.87C208.31,-487.05 220.89,-473.16 230.76,-462.27\"/>\n<polygon fill=\"black\" stroke=\"black\" points=\"233.53,-464.43 237.65,-454.67 228.34,-459.73 233.53,-464.43\"/>\n</g>\n<!-- 5214845536 -->\n<g id=\"node16\" class=\"node\">\n<title>5214845536</title>\n<polygon fill=\"lightgrey\" stroke=\"black\" points=\"238,-575.5 137,-575.5 137,-556.5 238,-556.5 238,-575.5\"/>\n<text text-anchor=\"middle\" x=\"187.5\" y=\"-563.5\" font-family=\"monospace\" font-size=\"10.00\">AddmmBackward0</text>\n</g>\n<!-- 5214845536&#45;&gt;5214845392 -->\n<g id=\"edge14\" class=\"edge\">\n<title>5214845536&#45;&gt;5214845392</title>\n<path fill=\"none\" stroke=\"black\" d=\"M188.24,-556.37C188.93,-548.25 190,-535.81 190.89,-525.39\"/>\n<polygon fill=\"black\" stroke=\"black\" points=\"194.39,-525.43 191.76,-515.17 187.42,-524.83 194.39,-525.43\"/>\n</g>\n<!-- 5214845728 -->\n<g id=\"node17\" class=\"node\">\n<title>5214845728</title>\n<polygon fill=\"lightgrey\" stroke=\"black\" points=\"121,-641.5 20,-641.5 20,-622.5 121,-622.5 121,-641.5\"/>\n<text text-anchor=\"middle\" x=\"70.5\" y=\"-629.5\" font-family=\"monospace\" font-size=\"10.00\">AccumulateGrad</text>\n</g>\n<!-- 5214845728&#45;&gt;5214845536 -->\n<g id=\"edge15\" class=\"edge\">\n<title>5214845728&#45;&gt;5214845536</title>\n<path fill=\"none\" stroke=\"black\" d=\"M86.28,-622.37C105.91,-611.63 139.64,-593.18 162.73,-580.55\"/>\n<polygon fill=\"black\" stroke=\"black\" points=\"164.5,-583.57 171.6,-575.7 161.14,-577.43 164.5,-583.57\"/>\n</g>\n<!-- 5213691312 -->\n<g id=\"node18\" class=\"node\">\n<title>5213691312</title>\n<polygon fill=\"lightblue\" stroke=\"black\" points=\"125,-713 6,-713 6,-683 125,-683 125,-713\"/>\n<text text-anchor=\"middle\" x=\"65.5\" y=\"-701\" font-family=\"monospace\" font-size=\"10.00\">extractor1.0.bias</text>\n<text text-anchor=\"middle\" x=\"65.5\" y=\"-690\" font-family=\"monospace\" font-size=\"10.00\"> (300)</text>\n</g>\n<!-- 5213691312&#45;&gt;5214845728 -->\n<g id=\"edge16\" class=\"edge\">\n<title>5213691312&#45;&gt;5214845728</title>\n<path fill=\"none\" stroke=\"black\" d=\"M66.61,-682.8C67.32,-673.7 68.25,-661.79 69.02,-651.9\"/>\n<polygon fill=\"black\" stroke=\"black\" points=\"72.52,-652.09 69.81,-641.84 65.54,-651.54 72.52,-652.09\"/>\n</g>\n<!-- 5214845680 -->\n<g id=\"node19\" class=\"node\">\n<title>5214845680</title>\n<polygon fill=\"lightgrey\" stroke=\"black\" points=\"226,-641.5 149,-641.5 149,-622.5 226,-622.5 226,-641.5\"/>\n<text text-anchor=\"middle\" x=\"187.5\" y=\"-629.5\" font-family=\"monospace\" font-size=\"10.00\">TBackward0</text>\n</g>\n<!-- 5214845680&#45;&gt;5214845536 -->\n<g id=\"edge17\" class=\"edge\">\n<title>5214845680&#45;&gt;5214845536</title>\n<path fill=\"none\" stroke=\"black\" d=\"M187.5,-622.37C187.5,-613.16 187.5,-598.29 187.5,-586.27\"/>\n<polygon fill=\"black\" stroke=\"black\" points=\"191,-585.91 187.5,-575.91 184,-585.91 191,-585.91\"/>\n</g>\n<!-- 5214845776 -->\n<g id=\"node20\" class=\"node\">\n<title>5214845776</title>\n<polygon fill=\"lightgrey\" stroke=\"black\" points=\"244,-707.5 143,-707.5 143,-688.5 244,-688.5 244,-707.5\"/>\n<text text-anchor=\"middle\" x=\"193.5\" y=\"-695.5\" font-family=\"monospace\" font-size=\"10.00\">AccumulateGrad</text>\n</g>\n<!-- 5214845776&#45;&gt;5214845680 -->\n<g id=\"edge18\" class=\"edge\">\n<title>5214845776&#45;&gt;5214845680</title>\n<path fill=\"none\" stroke=\"black\" d=\"M192.69,-688.37C191.82,-679.07 190.4,-663.98 189.27,-651.9\"/>\n<polygon fill=\"black\" stroke=\"black\" points=\"192.75,-651.53 188.33,-641.91 185.78,-652.19 192.75,-651.53\"/>\n</g>\n<!-- 5213691152 -->\n<g id=\"node21\" class=\"node\">\n<title>5213691152</title>\n<polygon fill=\"lightblue\" stroke=\"black\" points=\"259,-779 128,-779 128,-749 259,-749 259,-779\"/>\n<text text-anchor=\"middle\" x=\"193.5\" y=\"-767\" font-family=\"monospace\" font-size=\"10.00\">extractor1.0.weight</text>\n<text text-anchor=\"middle\" x=\"193.5\" y=\"-756\" font-family=\"monospace\" font-size=\"10.00\"> (300, 64)</text>\n</g>\n<!-- 5213691152&#45;&gt;5214845776 -->\n<g id=\"edge19\" class=\"edge\">\n<title>5213691152&#45;&gt;5214845776</title>\n<path fill=\"none\" stroke=\"black\" d=\"M193.5,-748.8C193.5,-739.7 193.5,-727.79 193.5,-717.9\"/>\n<polygon fill=\"black\" stroke=\"black\" points=\"197,-717.84 193.5,-707.84 190,-717.84 197,-717.84\"/>\n</g>\n<!-- 5214845200 -->\n<g id=\"node22\" class=\"node\">\n<title>5214845200</title>\n<polygon fill=\"lightgrey\" stroke=\"black\" points=\"338,-515 261,-515 261,-496 338,-496 338,-515\"/>\n<text text-anchor=\"middle\" x=\"299.5\" y=\"-503\" font-family=\"monospace\" font-size=\"10.00\">TBackward0</text>\n</g>\n<!-- 5214845200&#45;&gt;5214845296 -->\n<g id=\"edge20\" class=\"edge\">\n<title>5214845200&#45;&gt;5214845296</title>\n<path fill=\"none\" stroke=\"black\" d=\"M291.53,-495.87C283.4,-487.05 270.57,-473.16 260.52,-462.27\"/>\n<polygon fill=\"black\" stroke=\"black\" points=\"262.86,-459.64 253.5,-454.67 257.71,-464.39 262.86,-459.64\"/>\n</g>\n<!-- 5214845824 -->\n<g id=\"node23\" class=\"node\">\n<title>5214845824</title>\n<polygon fill=\"lightgrey\" stroke=\"black\" points=\"357,-575.5 256,-575.5 256,-556.5 357,-556.5 357,-575.5\"/>\n<text text-anchor=\"middle\" x=\"306.5\" y=\"-563.5\" font-family=\"monospace\" font-size=\"10.00\">AccumulateGrad</text>\n</g>\n<!-- 5214845824&#45;&gt;5214845200 -->\n<g id=\"edge21\" class=\"edge\">\n<title>5214845824&#45;&gt;5214845200</title>\n<path fill=\"none\" stroke=\"black\" d=\"M305.47,-556.37C304.5,-548.25 303.01,-535.81 301.76,-525.39\"/>\n<polygon fill=\"black\" stroke=\"black\" points=\"305.2,-524.68 300.54,-515.17 298.25,-525.51 305.2,-524.68\"/>\n</g>\n<!-- 5213574384 -->\n<g id=\"node24\" class=\"node\">\n<title>5213574384</title>\n<polygon fill=\"lightblue\" stroke=\"black\" points=\"375,-647 244,-647 244,-617 375,-617 375,-647\"/>\n<text text-anchor=\"middle\" x=\"309.5\" y=\"-635\" font-family=\"monospace\" font-size=\"10.00\">extractor1.2.weight</text>\n<text text-anchor=\"middle\" x=\"309.5\" y=\"-624\" font-family=\"monospace\" font-size=\"10.00\"> (100, 300)</text>\n</g>\n<!-- 5213574384&#45;&gt;5214845824 -->\n<g id=\"edge22\" class=\"edge\">\n<title>5213574384&#45;&gt;5214845824</title>\n<path fill=\"none\" stroke=\"black\" d=\"M308.83,-616.8C308.41,-607.7 307.85,-595.79 307.39,-585.9\"/>\n<polygon fill=\"black\" stroke=\"black\" points=\"310.88,-585.67 306.91,-575.84 303.89,-586 310.88,-585.67\"/>\n</g>\n<!-- 5214845104 -->\n<g id=\"node25\" class=\"node\">\n<title>5214845104</title>\n<polygon fill=\"lightgrey\" stroke=\"black\" points=\"482,-388.5 387,-388.5 387,-369.5 482,-369.5 482,-388.5\"/>\n<text text-anchor=\"middle\" x=\"434.5\" y=\"-376.5\" font-family=\"monospace\" font-size=\"10.00\">ReluBackward0</text>\n</g>\n<!-- 5214845104&#45;&gt;5214844912 -->\n<g id=\"edge23\" class=\"edge\">\n<title>5214845104&#45;&gt;5214844912</title>\n<path fill=\"none\" stroke=\"black\" d=\"M426.81,-369.37C418.02,-359.5 403.43,-343.11 392.39,-330.72\"/>\n<polygon fill=\"black\" stroke=\"black\" points=\"394.7,-328.05 385.43,-322.91 389.47,-332.7 394.7,-328.05\"/>\n</g>\n<!-- 5214845632 -->\n<g id=\"node26\" class=\"node\">\n<title>5214845632</title>\n<polygon fill=\"lightgrey\" stroke=\"black\" points=\"485,-454.5 384,-454.5 384,-435.5 485,-435.5 485,-454.5\"/>\n<text text-anchor=\"middle\" x=\"434.5\" y=\"-442.5\" font-family=\"monospace\" font-size=\"10.00\">AddmmBackward0</text>\n</g>\n<!-- 5214845632&#45;&gt;5214845104 -->\n<g id=\"edge24\" class=\"edge\">\n<title>5214845632&#45;&gt;5214845104</title>\n<path fill=\"none\" stroke=\"black\" d=\"M434.5,-435.37C434.5,-426.16 434.5,-411.29 434.5,-399.27\"/>\n<polygon fill=\"black\" stroke=\"black\" points=\"438,-398.91 434.5,-388.91 431,-398.91 438,-398.91\"/>\n</g>\n<!-- 5214845968 -->\n<g id=\"node27\" class=\"node\">\n<title>5214845968</title>\n<polygon fill=\"lightgrey\" stroke=\"black\" points=\"485,-515 384,-515 384,-496 485,-496 485,-515\"/>\n<text text-anchor=\"middle\" x=\"434.5\" y=\"-503\" font-family=\"monospace\" font-size=\"10.00\">AccumulateGrad</text>\n</g>\n<!-- 5214845968&#45;&gt;5214845632 -->\n<g id=\"edge25\" class=\"edge\">\n<title>5214845968&#45;&gt;5214845632</title>\n<path fill=\"none\" stroke=\"black\" d=\"M434.5,-495.87C434.5,-487.75 434.5,-475.31 434.5,-464.89\"/>\n<polygon fill=\"black\" stroke=\"black\" points=\"438,-464.67 434.5,-454.67 431,-464.67 438,-464.67\"/>\n</g>\n<!-- 5213691392 -->\n<g id=\"node28\" class=\"node\">\n<title>5213691392</title>\n<polygon fill=\"lightblue\" stroke=\"black\" points=\"494,-581 375,-581 375,-551 494,-551 494,-581\"/>\n<text text-anchor=\"middle\" x=\"434.5\" y=\"-569\" font-family=\"monospace\" font-size=\"10.00\">extractor2.0.bias</text>\n<text text-anchor=\"middle\" x=\"434.5\" y=\"-558\" font-family=\"monospace\" font-size=\"10.00\"> (200)</text>\n</g>\n<!-- 5213691392&#45;&gt;5214845968 -->\n<g id=\"edge26\" class=\"edge\">\n<title>5213691392&#45;&gt;5214845968</title>\n<path fill=\"none\" stroke=\"black\" d=\"M434.5,-550.84C434.5,-543.21 434.5,-533.7 434.5,-525.45\"/>\n<polygon fill=\"black\" stroke=\"black\" points=\"438,-525.27 434.5,-515.27 431,-525.27 438,-525.27\"/>\n</g>\n<!-- 5214845920 -->\n<g id=\"node29\" class=\"node\">\n<title>5214845920</title>\n<polygon fill=\"lightgrey\" stroke=\"black\" points=\"590,-515 513,-515 513,-496 590,-496 590,-515\"/>\n<text text-anchor=\"middle\" x=\"551.5\" y=\"-503\" font-family=\"monospace\" font-size=\"10.00\">TBackward0</text>\n</g>\n<!-- 5214845920&#45;&gt;5214845632 -->\n<g id=\"edge27\" class=\"edge\">\n<title>5214845920&#45;&gt;5214845632</title>\n<path fill=\"none\" stroke=\"black\" d=\"M534.49,-495.99C515.08,-486.29 483.11,-470.31 460.56,-459.03\"/>\n<polygon fill=\"black\" stroke=\"black\" points=\"462.04,-455.86 451.53,-454.52 458.91,-462.12 462.04,-455.86\"/>\n</g>\n<!-- 5214845584 -->\n<g id=\"node30\" class=\"node\">\n<title>5214845584</title>\n<polygon fill=\"lightgrey\" stroke=\"black\" points=\"613,-575.5 512,-575.5 512,-556.5 613,-556.5 613,-575.5\"/>\n<text text-anchor=\"middle\" x=\"562.5\" y=\"-563.5\" font-family=\"monospace\" font-size=\"10.00\">AccumulateGrad</text>\n</g>\n<!-- 5214845584&#45;&gt;5214845920 -->\n<g id=\"edge28\" class=\"edge\">\n<title>5214845584&#45;&gt;5214845920</title>\n<path fill=\"none\" stroke=\"black\" d=\"M560.88,-556.37C559.33,-548.16 556.96,-535.54 554.99,-525.05\"/>\n<polygon fill=\"black\" stroke=\"black\" points=\"558.42,-524.35 553.13,-515.17 551.54,-525.64 558.42,-524.35\"/>\n</g>\n<!-- 5213552528 -->\n<g id=\"node31\" class=\"node\">\n<title>5213552528</title>\n<polygon fill=\"lightblue\" stroke=\"black\" points=\"628,-647 497,-647 497,-617 628,-617 628,-647\"/>\n<text text-anchor=\"middle\" x=\"562.5\" y=\"-635\" font-family=\"monospace\" font-size=\"10.00\">extractor2.0.weight</text>\n<text text-anchor=\"middle\" x=\"562.5\" y=\"-624\" font-family=\"monospace\" font-size=\"10.00\"> (200, 64)</text>\n</g>\n<!-- 5213552528&#45;&gt;5214845584 -->\n<g id=\"edge29\" class=\"edge\">\n<title>5213552528&#45;&gt;5214845584</title>\n<path fill=\"none\" stroke=\"black\" d=\"M562.5,-616.8C562.5,-607.7 562.5,-595.79 562.5,-585.9\"/>\n<polygon fill=\"black\" stroke=\"black\" points=\"566,-585.84 562.5,-575.84 559,-585.84 566,-585.84\"/>\n</g>\n<!-- 5214844864 -->\n<g id=\"node32\" class=\"node\">\n<title>5214844864</title>\n<polygon fill=\"lightgrey\" stroke=\"black\" points=\"517,-322.5 440,-322.5 440,-303.5 517,-303.5 517,-322.5\"/>\n<text text-anchor=\"middle\" x=\"478.5\" y=\"-310.5\" font-family=\"monospace\" font-size=\"10.00\">TBackward0</text>\n</g>\n<!-- 5214844864&#45;&gt;5214844768 -->\n<g id=\"edge30\" class=\"edge\">\n<title>5214844864&#45;&gt;5214844768</title>\n<path fill=\"none\" stroke=\"black\" d=\"M468.39,-303.37C456.49,-293.21 436.5,-276.16 421.85,-263.65\"/>\n<polygon fill=\"black\" stroke=\"black\" points=\"423.81,-260.73 413.94,-256.91 419.27,-266.06 423.81,-260.73\"/>\n</g>\n<!-- 5214845248 -->\n<g id=\"node33\" class=\"node\">\n<title>5214845248</title>\n<polygon fill=\"lightgrey\" stroke=\"black\" points=\"610,-388.5 509,-388.5 509,-369.5 610,-369.5 610,-388.5\"/>\n<text text-anchor=\"middle\" x=\"559.5\" y=\"-376.5\" font-family=\"monospace\" font-size=\"10.00\">AccumulateGrad</text>\n</g>\n<!-- 5214845248&#45;&gt;5214844864 -->\n<g id=\"edge31\" class=\"edge\">\n<title>5214845248&#45;&gt;5214844864</title>\n<path fill=\"none\" stroke=\"black\" d=\"M548.58,-369.37C535.53,-359.06 513.49,-341.65 497.6,-329.09\"/>\n<polygon fill=\"black\" stroke=\"black\" points=\"499.53,-326.15 489.51,-322.7 495.19,-331.64 499.53,-326.15\"/>\n</g>\n<!-- 5213552048 -->\n<g id=\"node34\" class=\"node\">\n<title>5213552048</title>\n<polygon fill=\"lightblue\" stroke=\"black\" points=\"634,-460 503,-460 503,-430 634,-430 634,-460\"/>\n<text text-anchor=\"middle\" x=\"568.5\" y=\"-448\" font-family=\"monospace\" font-size=\"10.00\">classifier.0.weight</text>\n<text text-anchor=\"middle\" x=\"568.5\" y=\"-437\" font-family=\"monospace\" font-size=\"10.00\"> (100, 300)</text>\n</g>\n<!-- 5213552048&#45;&gt;5214845248 -->\n<g id=\"edge32\" class=\"edge\">\n<title>5213552048&#45;&gt;5214845248</title>\n<path fill=\"none\" stroke=\"black\" d=\"M566.5,-429.8C565.22,-420.7 563.55,-408.79 562.16,-398.9\"/>\n<polygon fill=\"black\" stroke=\"black\" points=\"565.6,-398.26 560.74,-388.84 558.67,-399.23 565.6,-398.26\"/>\n</g>\n<!-- 5214844576 -->\n<g id=\"node35\" class=\"node\">\n<title>5214844576</title>\n<polygon fill=\"lightgrey\" stroke=\"black\" points=\"579,-196 502,-196 502,-177 579,-177 579,-196\"/>\n<text text-anchor=\"middle\" x=\"540.5\" y=\"-184\" font-family=\"monospace\" font-size=\"10.00\">TBackward0</text>\n</g>\n<!-- 5214844576&#45;&gt;5214844720 -->\n<g id=\"edge33\" class=\"edge\">\n<title>5214844576&#45;&gt;5214844720</title>\n<path fill=\"none\" stroke=\"black\" d=\"M518.49,-176.98C496.05,-168.3 461.02,-154.75 435.51,-144.88\"/>\n<polygon fill=\"black\" stroke=\"black\" points=\"436.5,-141.51 425.91,-141.17 433.98,-148.04 436.5,-141.51\"/>\n</g>\n<!-- 5214845488 -->\n<g id=\"node36\" class=\"node\">\n<title>5214845488</title>\n<polygon fill=\"lightgrey\" stroke=\"black\" points=\"625,-256.5 524,-256.5 524,-237.5 625,-237.5 625,-256.5\"/>\n<text text-anchor=\"middle\" x=\"574.5\" y=\"-244.5\" font-family=\"monospace\" font-size=\"10.00\">AccumulateGrad</text>\n</g>\n<!-- 5214845488&#45;&gt;5214844576 -->\n<g id=\"edge34\" class=\"edge\">\n<title>5214845488&#45;&gt;5214844576</title>\n<path fill=\"none\" stroke=\"black\" d=\"M569.48,-237.37C564.56,-228.9 556.91,-215.74 550.71,-205.07\"/>\n<polygon fill=\"black\" stroke=\"black\" points=\"553.59,-203.05 545.54,-196.17 547.54,-206.57 553.59,-203.05\"/>\n</g>\n<!-- 5213691552 -->\n<g id=\"node37\" class=\"node\">\n<title>5213691552</title>\n<polygon fill=\"lightblue\" stroke=\"black\" points=\"666,-328 535,-328 535,-298 666,-298 666,-328\"/>\n<text text-anchor=\"middle\" x=\"600.5\" y=\"-316\" font-family=\"monospace\" font-size=\"10.00\">classifier.2.weight</text>\n<text text-anchor=\"middle\" x=\"600.5\" y=\"-305\" font-family=\"monospace\" font-size=\"10.00\"> (10, 100)</text>\n</g>\n<!-- 5213691552&#45;&gt;5214845488 -->\n<g id=\"edge35\" class=\"edge\">\n<title>5213691552&#45;&gt;5214845488</title>\n<path fill=\"none\" stroke=\"black\" d=\"M594.73,-297.8C590.95,-288.5 585.99,-276.27 581.92,-266.26\"/>\n<polygon fill=\"black\" stroke=\"black\" points=\"585.1,-264.79 578.09,-256.84 578.61,-267.43 585.1,-264.79\"/>\n</g>\n</g>\n</svg>\n",
      "text/plain": [
       "<graphviz.graphs.Digraph at 0x136d43610>"
      ]
     },
     "execution_count": 5,
     "metadata": {},
     "output_type": "execute_result"
    }
   ],
   "source": [
    "from torchviz import make_dot\n",
    "\n",
    "x = torch.randn(1, 64)     # dummy input\n",
    "make_dot(model(x), params=dict(model.named_parameters()))"
   ]
  },
  {
   "cell_type": "markdown",
   "metadata": {},
   "source": []
  },
  {
   "attachments": {},
   "cell_type": "markdown",
   "metadata": {},
   "source": [
    "## Vanila PyTorch Example"
   ]
  },
  {
   "attachments": {},
   "cell_type": "markdown",
   "metadata": {},
   "source": [
    "### Import packages"
   ]
  },
  {
   "cell_type": "code",
   "execution_count": 6,
   "metadata": {},
   "outputs": [],
   "source": [
    "import torch as th\n",
    "import torch.nn as nn # neural network module\n",
    "import torch.nn.functional as F # neural network functional(relu, softmax 등 activation function) module\n",
    "import torch.optim as optim # optimizer(adam 등) module\n",
    "import torchvision # computer vision module\n",
    "import torchvision.transforms as transforms # image preprocessing, augmentation module\n",
    "import matplotlib.pyplot as plt # visualization module\n",
    "import numpy as np # linear algebra module\n",
    "\n",
    "from torchvision.datasets import MNIST # MNIST dataset module\n",
    "from torch.utils.data import DataLoader, Dataset, random_split # data loader module"
   ]
  },
  {
   "cell_type": "code",
   "execution_count": 7,
   "metadata": {},
   "outputs": [
    {
     "data": {
      "text/plain": [
       "<torch._C.Generator at 0x108044c50>"
      ]
     },
     "execution_count": 7,
     "metadata": {},
     "output_type": "execute_result"
    }
   ],
   "source": [
    "import random\n",
    "\n",
    "seed = 1004\n",
    "random.seed(seed)\n",
    "th.manual_seed(seed)"
   ]
  },
  {
   "cell_type": "code",
   "execution_count": 8,
   "metadata": {},
   "outputs": [],
   "source": [
    "# # cuda 사용 가능하면 cuda 사용(only for Windows)\n",
    "# if th.cuda.is_available():\n",
    "#     th.cuda.manual_seed(seed)\n",
    "#     device = th.device('cuda')"
   ]
  },
  {
   "attachments": {},
   "cell_type": "markdown",
   "metadata": {},
   "source": [
    "### Load Dataset"
   ]
  },
  {
   "cell_type": "code",
   "execution_count": 9,
   "metadata": {},
   "outputs": [],
   "source": [
    "transform = transforms.Compose([transforms.ToTensor(), # ToTensor(): numpy array(image)를 tensor로 변환\n",
    "                                transforms.Normalize((0.1307,), (0.3081,))]) # Normalize(): image normalization(평균, 표준편차)\n",
    "\n",
    "train_dataset = MNIST(root = './data', train = True, download = True, transform = transform) # train dataset\n",
    "test_dataset = MNIST(root = './data', train = False, download = True, transform = transform) # test dataset"
   ]
  },
  {
   "cell_type": "code",
   "execution_count": 10,
   "metadata": {},
   "outputs": [
    {
     "data": {
      "text/plain": [
       "(Dataset MNIST\n",
       "     Number of datapoints: 60000\n",
       "     Root location: ./data\n",
       "     Split: Train\n",
       "     StandardTransform\n",
       " Transform: Compose(\n",
       "                ToTensor()\n",
       "                Normalize(mean=(0.1307,), std=(0.3081,))\n",
       "            ),\n",
       " Dataset MNIST\n",
       "     Number of datapoints: 10000\n",
       "     Root location: ./data\n",
       "     Split: Test\n",
       "     StandardTransform\n",
       " Transform: Compose(\n",
       "                ToTensor()\n",
       "                Normalize(mean=(0.1307,), std=(0.3081,))\n",
       "            ))"
      ]
     },
     "execution_count": 10,
     "metadata": {},
     "output_type": "execute_result"
    }
   ],
   "source": [
    "train_dataset, test_dataset"
   ]
  },
  {
   "cell_type": "code",
   "execution_count": 11,
   "metadata": {},
   "outputs": [
    {
     "data": {
      "text/plain": [
       "(54000, 6000)"
      ]
     },
     "execution_count": 11,
     "metadata": {},
     "output_type": "execute_result"
    }
   ],
   "source": [
    "train_dataset, val_dataset = random_split(train_dataset, [54000, 6000]) # train dataset을 train dataset과 validation dataset으로 나눔\n",
    "len(train_dataset), len(val_dataset)"
   ]
  },
  {
   "cell_type": "code",
   "execution_count": 12,
   "metadata": {},
   "outputs": [
    {
     "data": {
      "text/plain": [
       "torch.Size([1, 28, 28])"
      ]
     },
     "execution_count": 12,
     "metadata": {},
     "output_type": "execute_result"
    }
   ],
   "source": [
    "train_dataset[0][0].shape"
   ]
  },
  {
   "cell_type": "code",
   "execution_count": 13,
   "metadata": {},
   "outputs": [
    {
     "data": {
      "image/png": "[encoded data removed]",
      "text/plain": [
       "<Figure size 1080x216 with 5 Axes>"
      ]
     },
     "metadata": {
      "needs_background": "light"
     },
     "output_type": "display_data"
    }
   ],
   "source": [
    "num_sample = 5\n",
    "random_idx = np.random.randint(0, len(train_dataset), num_sample)\n",
    "\n",
    "plt.figure(figsize=(15, 3))\n",
    "for i, idx in enumerate(random_idx):\n",
    "    img, label = train_dataset[idx]\n",
    "    plt.subplot(1, num_sample, i+1)\n",
    "    plt.title(f'Label: {label}')\n",
    "    plt.imshow(img.squeeze(), cmap='gray')\n",
    "    plt.axis(False)"
   ]
  },
  {
   "attachments": {},
   "cell_type": "markdown",
   "metadata": {},
   "source": [
    "### DataLoader (by batch size)"
   ]
  },
  {
   "cell_type": "code",
   "execution_count": 14,
   "metadata": {},
   "outputs": [],
   "source": [
    "batch_size = 64 # batch size\n",
    "\n",
    "train_loader = DataLoader(train_dataset, batch_size = batch_size, shuffle = True, drop_last = True) # train dataset을 batch size만큼 나눔\n",
    "val_loader = DataLoader(val_dataset, batch_size = batch_size, shuffle = False, drop_last = True) # drop_last: 마지막 batch를 버리고 다시 처음부터 batch size만큼 나눔\n",
    "test_loader = DataLoader(test_dataset, batch_size = batch_size, shuffle = False, drop_last = True)"
   ]
  },
  {
   "attachments": {},
   "cell_type": "markdown",
   "metadata": {},
   "source": [
    "### Model"
   ]
  },
  {
   "cell_type": "code",
   "execution_count": 15,
   "metadata": {},
   "outputs": [],
   "source": [
    "class Net(nn.Module):\n",
    "    def __init__(self):\n",
    "        super(Net, self).__init__()\n",
    "        # self.flatten = nn.Flatten(start_dim = 2, end_dim = 3) # Flatten(): 2차원으로 변환\n",
    "        self.fc1 = nn.Linear(28*28, 256) # fully connected layer\n",
    "        self.fc2 = nn.Linear(256, 64)\n",
    "        self.fc3 = nn.Linear(64, 10)\n",
    "        \n",
    "    def forward(self, x):\n",
    "        # x = self.flatten(x) # x = x.view(-1, 28*28)로 대체 가능\n",
    "        x = x.view(-1, 28*28)\n",
    "        x = F.relu(self.fc1(x))\n",
    "        x = F.relu(self.fc2(x))\n",
    "        x = self.fc3(x)\n",
    "        out = F.log_softmax(x, dim = 1) # log_softmax(): log를 취한 softmax\n",
    "        return out"
   ]
  },
  {
   "cell_type": "code",
   "execution_count": 16,
   "metadata": {},
   "outputs": [],
   "source": [
    "# class Net(nn.Module):\n",
    "#     def __init__(self):\n",
    "#         super(Net, self).__init__()\n",
    "#         self.flatten = nn.Flatten(start_dim = 2, end_dim = 3) # Flatten(): 2차원으로 변환\n",
    "#         self.fc1 = nn.Linear(28*28, 256) # fully connected layer\n",
    "#         self.fc2 = nn.Linear(256, 64)\n",
    "#         self.fc3 = nn.Linear(64, 10)\n",
    "        \n",
    "#     def forward(self, x):\n",
    "#         x = self.flatten(x) # x = x.view(-1, 28*28)로 대체 가능\n",
    "#         x = F.relu(self.fc1(x))\n",
    "#         x = F.relu(self.fc2(x))\n",
    "#         x = self.fc3(x)\n",
    "#         out = F.log_softmax(x, dim = 1) # log_softmax(): log를 취한 softmax\n",
    "#         return x"
   ]
  },
  {
   "attachments": {},
   "cell_type": "markdown",
   "metadata": {},
   "source": [
    "### Train, Test function"
   ]
  },
  {
   "cell_type": "code",
   "execution_count": 17,
   "metadata": {},
   "outputs": [],
   "source": [
    "device = th.device('cuda' if th.cuda.is_available() else 'cpu') # cuda 사용 가능하면 cuda 사용"
   ]
  },
  {
   "cell_type": "code",
   "execution_count": 18,
   "metadata": {},
   "outputs": [],
   "source": [
    "def train(model, train_loader, optimizer, epoch, device):\n",
    "    model.train()\n",
    "    train_losses = []\n",
    "    for batch_idx, (data, target) in enumerate(train_loader):\n",
    "        data, target = data.to(device), target.to(device) # cuda 사용 가능하면 cuda 사용\n",
    "        optimizer.zero_grad() # optimizer gradient 초기화\n",
    "        output = model(data) # model에 data를 넣어서 output 반환\n",
    "        loss = F.nll_loss(output, target) # negative log likelihood loss(nll) 계산\n",
    "        train_losses.append(loss.item()) # loss(scalar(0차원 tensor) -> float)를 list에 append\n",
    "        \n",
    "        loss.backward() # loss를 backpropagation(gradient 계산된 tensor를 각 layer에 저장)\n",
    "        optimizer.step() # optimizer gradient update(optimizer에 저장된 gradient를 각 node의 weight에 적용)\n",
    "        \n",
    "        if batch_idx % 100 == 0: # 100번째 batch마다 loss 출력\n",
    "            print(f'Train Epoch: {epoch} [{batch_idx * len(data)}/{len(train_loader.dataset)} '\n",
    "                  f'({100. * batch_idx / len(train_loader):.0f}%)]\\tLoss: {loss.item():.6f}')\n",
    "            \n",
    "    return np.mean(train_losses) # epoch마다 train loss의 평균 반환"
   ]
  },
  {
   "cell_type": "code",
   "execution_count": 19,
   "metadata": {},
   "outputs": [],
   "source": [
    "def test(model, test_loader, device):\n",
    "    model.eval() # model evaluation에서 안 쓰는 layer들을 끔\n",
    "    test_loss = 0\n",
    "    correct = 0\n",
    "    \n",
    "    with th.no_grad(): # with 안에서는 gradient 계산 안함\n",
    "        for data, target in test_loader:\n",
    "            data, target = data.to(device), target.to(device) # cuda 사용 가능하면 cuda 사용\n",
    "            output = model(data) # model에 data를 넣어서 output 반환\n",
    "            test_loss += F.nll_loss(output, target, reduction = 'sum').item() # output(logit) 받아서 loss 계산\n",
    "            pred = output.argmax(dim = 1, keepdim = True) # get the index of the max log-probability\n",
    "            correct += pred.eq(target.view_as(pred)).sum().item() # correct 예측 개수(pred.eq(): tensor의 element-wise 비교)\n",
    "            \n",
    "    test_loss /= len(test_loader.dataset) # test loss의 평균\n",
    "        \n",
    "    print(f'\\nTest set: Average loss: {test_loss:.4f}, '\n",
    "          f'Accuracy: {correct}/{len(test_loader.dataset)} ({100. * correct / len(test_loader.dataset)}%)\\n')\n",
    "\n",
    "    return test_loss"
   ]
  },
  {
   "cell_type": "code",
   "execution_count": 20,
   "metadata": {},
   "outputs": [],
   "source": [
    "import copy\n",
    "\n",
    "def run(model,\n",
    "        train_loader,\n",
    "        val_loader,\n",
    "        test_loader,\n",
    "        optimizer,\n",
    "        num_epoch):\n",
    "    \n",
    "    device = th.device('cuda' if th.cuda.is_available() else 'cpu') # cuda 사용 가능하면 cuda 사용\n",
    "    scheduler = optim.lr_scheduler.StepLR(optimizer, step_size=1, gamma=0.7) # learning rate scheduler(optim.lr에 있는 scheduler)\n",
    "    model = model.to(device)\n",
    "    train_losses = [] # train loss 저장\n",
    "    val_losses = [] # validation loss 저장\n",
    "    \n",
    "    best_model = None\n",
    "    min_val_loss = np.inf\n",
    "    \n",
    "    for epoch in range(1, num_epoch + 1):\n",
    "        train_loss = train(model, train_loader, optimizer, epoch, device)\n",
    "        val_loss = test(model, val_loader, device)\n",
    "        scheduler.step() # learning rate scheduler step\n",
    "        \n",
    "        train_losses.append(train_loss)\n",
    "        val_losses.append(val_loss)\n",
    "        \n",
    "        if val_loss < min_val_loss:\n",
    "            min_val_loss = val_loss \n",
    "            best_model = copy.deepcopy(model) # deep copy\n",
    "\n",
    "    th.save(best_model.state_dict(), 'mnist.pt')\n",
    "\n",
    "    test_loss = test(best_model, test_loader, device)\n",
    "\n",
    "    return best_model, train_losses, val_losses, test_loss\n"
   ]
  },
  {
   "attachments": {},
   "cell_type": "markdown",
   "metadata": {},
   "source": [
    "### Run"
   ]
  },
  {
   "cell_type": "code",
   "execution_count": 21,
   "metadata": {},
   "outputs": [
    {
     "name": "stdout",
     "output_type": "stream",
     "text": [
      "Train Epoch: 1 [0/54000 (0%)]\tLoss: 2.304229\n",
      "Train Epoch: 1 [6400/54000 (12%)]\tLoss: 0.152449\n",
      "Train Epoch: 1 [12800/54000 (24%)]\tLoss: 0.302747\n",
      "Train Epoch: 1 [19200/54000 (36%)]\tLoss: 0.376179\n",
      "Train Epoch: 1 [25600/54000 (47%)]\tLoss: 0.168665\n",
      "Train Epoch: 1 [32000/54000 (59%)]\tLoss: 0.190544\n",
      "Train Epoch: 1 [38400/54000 (71%)]\tLoss: 0.150422\n",
      "Train Epoch: 1 [44800/54000 (83%)]\tLoss: 0.112038\n",
      "Train Epoch: 1 [51200/54000 (95%)]\tLoss: 0.074718\n",
      "\n",
      "Test set: Average loss: 0.1238, Accuracy: 5731/6000 (95.51666666666667%)\n",
      "\n",
      "Train Epoch: 2 [0/54000 (0%)]\tLoss: 0.178586\n",
      "Train Epoch: 2 [6400/54000 (12%)]\tLoss: 0.013479\n",
      "Train Epoch: 2 [12800/54000 (24%)]\tLoss: 0.102260\n",
      "Train Epoch: 2 [19200/54000 (36%)]\tLoss: 0.131258\n",
      "Train Epoch: 2 [25600/54000 (47%)]\tLoss: 0.203414\n",
      "Train Epoch: 2 [32000/54000 (59%)]\tLoss: 0.007547\n",
      "Train Epoch: 2 [38400/54000 (71%)]\tLoss: 0.031213\n",
      "Train Epoch: 2 [44800/54000 (83%)]\tLoss: 0.122919\n",
      "Train Epoch: 2 [51200/54000 (95%)]\tLoss: 0.089201\n",
      "\n",
      "Test set: Average loss: 0.0733, Accuracy: 5822/6000 (97.03333333333333%)\n",
      "\n",
      "Train Epoch: 3 [0/54000 (0%)]\tLoss: 0.048169\n",
      "Train Epoch: 3 [6400/54000 (12%)]\tLoss: 0.160352\n",
      "Train Epoch: 3 [12800/54000 (24%)]\tLoss: 0.025737\n",
      "Train Epoch: 3 [19200/54000 (36%)]\tLoss: 0.031168\n",
      "Train Epoch: 3 [25600/54000 (47%)]\tLoss: 0.013953\n",
      "Train Epoch: 3 [32000/54000 (59%)]\tLoss: 0.032142\n",
      "Train Epoch: 3 [38400/54000 (71%)]\tLoss: 0.024842\n",
      "Train Epoch: 3 [44800/54000 (83%)]\tLoss: 0.007355\n",
      "Train Epoch: 3 [51200/54000 (95%)]\tLoss: 0.006739\n",
      "\n",
      "Test set: Average loss: 0.0707, Accuracy: 5820/6000 (97.0%)\n",
      "\n",
      "Train Epoch: 4 [0/54000 (0%)]\tLoss: 0.009139\n",
      "Train Epoch: 4 [6400/54000 (12%)]\tLoss: 0.006292\n",
      "Train Epoch: 4 [12800/54000 (24%)]\tLoss: 0.026620\n",
      "Train Epoch: 4 [19200/54000 (36%)]\tLoss: 0.027134\n",
      "Train Epoch: 4 [25600/54000 (47%)]\tLoss: 0.060433\n",
      "Train Epoch: 4 [32000/54000 (59%)]\tLoss: 0.003962\n",
      "Train Epoch: 4 [38400/54000 (71%)]\tLoss: 0.012050\n",
      "Train Epoch: 4 [44800/54000 (83%)]\tLoss: 0.039531\n",
      "Train Epoch: 4 [51200/54000 (95%)]\tLoss: 0.031802\n",
      "\n",
      "Test set: Average loss: 0.0628, Accuracy: 5846/6000 (97.43333333333334%)\n",
      "\n",
      "Train Epoch: 5 [0/54000 (0%)]\tLoss: 0.002558\n",
      "Train Epoch: 5 [6400/54000 (12%)]\tLoss: 0.008328\n",
      "Train Epoch: 5 [12800/54000 (24%)]\tLoss: 0.001681\n",
      "Train Epoch: 5 [19200/54000 (36%)]\tLoss: 0.025555\n",
      "Train Epoch: 5 [25600/54000 (47%)]\tLoss: 0.003717\n",
      "Train Epoch: 5 [32000/54000 (59%)]\tLoss: 0.013488\n",
      "Train Epoch: 5 [38400/54000 (71%)]\tLoss: 0.001603\n",
      "Train Epoch: 5 [44800/54000 (83%)]\tLoss: 0.004510\n",
      "Train Epoch: 5 [51200/54000 (95%)]\tLoss: 0.017174\n",
      "\n",
      "Test set: Average loss: 0.0631, Accuracy: 5850/6000 (97.5%)\n",
      "\n",
      "Train Epoch: 6 [0/54000 (0%)]\tLoss: 0.001128\n",
      "Train Epoch: 6 [6400/54000 (12%)]\tLoss: 0.020743\n",
      "Train Epoch: 6 [12800/54000 (24%)]\tLoss: 0.010335\n",
      "Train Epoch: 6 [19200/54000 (36%)]\tLoss: 0.004004\n",
      "Train Epoch: 6 [25600/54000 (47%)]\tLoss: 0.003265\n",
      "Train Epoch: 6 [32000/54000 (59%)]\tLoss: 0.002855\n",
      "Train Epoch: 6 [38400/54000 (71%)]\tLoss: 0.006501\n",
      "Train Epoch: 6 [44800/54000 (83%)]\tLoss: 0.003820\n",
      "Train Epoch: 6 [51200/54000 (95%)]\tLoss: 0.000595\n",
      "\n",
      "Test set: Average loss: 0.0618, Accuracy: 5851/6000 (97.51666666666667%)\n",
      "\n",
      "Train Epoch: 7 [0/54000 (0%)]\tLoss: 0.012313\n",
      "Train Epoch: 7 [6400/54000 (12%)]\tLoss: 0.002222\n",
      "Train Epoch: 7 [12800/54000 (24%)]\tLoss: 0.002982\n",
      "Train Epoch: 7 [19200/54000 (36%)]\tLoss: 0.001758\n",
      "Train Epoch: 7 [25600/54000 (47%)]\tLoss: 0.000496\n",
      "Train Epoch: 7 [32000/54000 (59%)]\tLoss: 0.004828\n",
      "Train Epoch: 7 [38400/54000 (71%)]\tLoss: 0.001737\n",
      "Train Epoch: 7 [44800/54000 (83%)]\tLoss: 0.002907\n",
      "Train Epoch: 7 [51200/54000 (95%)]\tLoss: 0.003970\n",
      "\n",
      "Test set: Average loss: 0.0619, Accuracy: 5850/6000 (97.5%)\n",
      "\n",
      "Train Epoch: 8 [0/54000 (0%)]\tLoss: 0.000866\n",
      "Train Epoch: 8 [6400/54000 (12%)]\tLoss: 0.004112\n",
      "Train Epoch: 8 [12800/54000 (24%)]\tLoss: 0.002174\n",
      "Train Epoch: 8 [19200/54000 (36%)]\tLoss: 0.000209\n",
      "Train Epoch: 8 [25600/54000 (47%)]\tLoss: 0.001925\n",
      "Train Epoch: 8 [32000/54000 (59%)]\tLoss: 0.000084\n",
      "Train Epoch: 8 [38400/54000 (71%)]\tLoss: 0.003551\n",
      "Train Epoch: 8 [44800/54000 (83%)]\tLoss: 0.002281\n",
      "Train Epoch: 8 [51200/54000 (95%)]\tLoss: 0.000669\n",
      "\n",
      "Test set: Average loss: 0.0635, Accuracy: 5857/6000 (97.61666666666666%)\n",
      "\n",
      "Train Epoch: 9 [0/54000 (0%)]\tLoss: 0.000848\n",
      "Train Epoch: 9 [6400/54000 (12%)]\tLoss: 0.001349\n",
      "Train Epoch: 9 [12800/54000 (24%)]\tLoss: 0.000909\n",
      "Train Epoch: 9 [19200/54000 (36%)]\tLoss: 0.000977\n",
      "Train Epoch: 9 [25600/54000 (47%)]\tLoss: 0.005572\n",
      "Train Epoch: 9 [32000/54000 (59%)]\tLoss: 0.001843\n",
      "Train Epoch: 9 [38400/54000 (71%)]\tLoss: 0.013268\n",
      "Train Epoch: 9 [44800/54000 (83%)]\tLoss: 0.001381\n",
      "Train Epoch: 9 [51200/54000 (95%)]\tLoss: 0.005629\n",
      "\n",
      "Test set: Average loss: 0.0653, Accuracy: 5848/6000 (97.46666666666667%)\n",
      "\n",
      "Train Epoch: 10 [0/54000 (0%)]\tLoss: 0.000451\n",
      "Train Epoch: 10 [6400/54000 (12%)]\tLoss: 0.001180\n",
      "Train Epoch: 10 [12800/54000 (24%)]\tLoss: 0.008272\n",
      "Train Epoch: 10 [19200/54000 (36%)]\tLoss: 0.000993\n",
      "Train Epoch: 10 [25600/54000 (47%)]\tLoss: 0.001296\n",
      "Train Epoch: 10 [32000/54000 (59%)]\tLoss: 0.003574\n",
      "Train Epoch: 10 [38400/54000 (71%)]\tLoss: 0.002815\n",
      "Train Epoch: 10 [44800/54000 (83%)]\tLoss: 0.000337\n",
      "Train Epoch: 10 [51200/54000 (95%)]\tLoss: 0.001257\n",
      "\n",
      "Test set: Average loss: 0.0642, Accuracy: 5853/6000 (97.55%)\n",
      "\n",
      "Train Epoch: 11 [0/54000 (0%)]\tLoss: 0.000987\n",
      "Train Epoch: 11 [6400/54000 (12%)]\tLoss: 0.001730\n",
      "Train Epoch: 11 [12800/54000 (24%)]\tLoss: 0.004244\n",
      "Train Epoch: 11 [19200/54000 (36%)]\tLoss: 0.000893\n",
      "Train Epoch: 11 [25600/54000 (47%)]\tLoss: 0.000704\n",
      "Train Epoch: 11 [32000/54000 (59%)]\tLoss: 0.002721\n",
      "Train Epoch: 11 [38400/54000 (71%)]\tLoss: 0.005190\n",
      "Train Epoch: 11 [44800/54000 (83%)]\tLoss: 0.004570\n",
      "Train Epoch: 11 [51200/54000 (95%)]\tLoss: 0.003798\n",
      "\n",
      "Test set: Average loss: 0.0650, Accuracy: 5851/6000 (97.51666666666667%)\n",
      "\n",
      "Train Epoch: 12 [0/54000 (0%)]\tLoss: 0.000993\n",
      "Train Epoch: 12 [6400/54000 (12%)]\tLoss: 0.001251\n",
      "Train Epoch: 12 [12800/54000 (24%)]\tLoss: 0.002786\n",
      "Train Epoch: 12 [19200/54000 (36%)]\tLoss: 0.000987\n",
      "Train Epoch: 12 [25600/54000 (47%)]\tLoss: 0.000701\n",
      "Train Epoch: 12 [32000/54000 (59%)]\tLoss: 0.000775\n",
      "Train Epoch: 12 [38400/54000 (71%)]\tLoss: 0.001242\n",
      "Train Epoch: 12 [44800/54000 (83%)]\tLoss: 0.006093\n",
      "Train Epoch: 12 [51200/54000 (95%)]\tLoss: 0.001591\n",
      "\n",
      "Test set: Average loss: 0.0648, Accuracy: 5851/6000 (97.51666666666667%)\n",
      "\n",
      "Train Epoch: 13 [0/54000 (0%)]\tLoss: 0.003133\n",
      "Train Epoch: 13 [6400/54000 (12%)]\tLoss: 0.001175\n",
      "Train Epoch: 13 [12800/54000 (24%)]\tLoss: 0.000833\n",
      "Train Epoch: 13 [19200/54000 (36%)]\tLoss: 0.001686\n",
      "Train Epoch: 13 [25600/54000 (47%)]\tLoss: 0.003785\n",
      "Train Epoch: 13 [32000/54000 (59%)]\tLoss: 0.000931\n",
      "Train Epoch: 13 [38400/54000 (71%)]\tLoss: 0.002943\n",
      "Train Epoch: 13 [44800/54000 (83%)]\tLoss: 0.030514\n",
      "Train Epoch: 13 [51200/54000 (95%)]\tLoss: 0.000773\n",
      "\n",
      "Test set: Average loss: 0.0651, Accuracy: 5855/6000 (97.58333333333333%)\n",
      "\n",
      "Train Epoch: 14 [0/54000 (0%)]\tLoss: 0.001188\n",
      "Train Epoch: 14 [6400/54000 (12%)]\tLoss: 0.000628\n",
      "Train Epoch: 14 [12800/54000 (24%)]\tLoss: 0.000383\n",
      "Train Epoch: 14 [19200/54000 (36%)]\tLoss: 0.000895\n",
      "Train Epoch: 14 [25600/54000 (47%)]\tLoss: 0.000690\n",
      "Train Epoch: 14 [32000/54000 (59%)]\tLoss: 0.000576\n",
      "Train Epoch: 14 [38400/54000 (71%)]\tLoss: 0.001449\n",
      "Train Epoch: 14 [44800/54000 (83%)]\tLoss: 0.000249\n",
      "Train Epoch: 14 [51200/54000 (95%)]\tLoss: 0.002074\n",
      "\n",
      "Test set: Average loss: 0.0651, Accuracy: 5852/6000 (97.53333333333333%)\n",
      "\n",
      "\n",
      "Test set: Average loss: 0.0633, Accuracy: 9818/10000 (98.18%)\n",
      "\n"
     ]
    }
   ],
   "source": [
    "model = Net()\n",
    "optimizer = optim.Adadelta(model.parameters(), lr = 1.0) # optimizer(optim에 있는 optimizer)\n",
    "history = run(model, train_loader, val_loader, test_loader, optimizer, 14)"
   ]
  },
  {
   "cell_type": "code",
   "execution_count": 22,
   "metadata": {},
   "outputs": [
    {
     "data": {
      "image/png": "[encoded data removed]",
      "text/plain": [
       "<Figure size 1080x360 with 2 Axes>"
      ]
     },
     "metadata": {
      "needs_background": "light"
     },
     "output_type": "display_data"
    }
   ],
   "source": [
    "fig, ax = plt.subplots(1, 2, figsize = (15, 5))\n",
    "ax[0].plot(history[1], label = 'train loss')\n",
    "ax[1].plot(history[2], label = 'val loss')\n",
    "ax[0].set_title('train loss')\n",
    "ax[1].set_title('val loss')\n",
    "ax[0].legend()\n",
    "ax[1].legend()\n",
    "ax[0].grid()\n",
    "ax[1].grid()"
   ]
  },
  {
   "attachments": {},
   "cell_type": "markdown",
   "metadata": {},
   "source": [
    "### Result"
   ]
  },
  {
   "cell_type": "code",
   "execution_count": 23,
   "metadata": {},
   "outputs": [
    {
     "name": "stdout",
     "output_type": "stream",
     "text": [
      "\n",
      "Test set: Average loss: 0.0633, Accuracy: 9818/10000 (98.18%)\n",
      "\n"
     ]
    },
    {
     "data": {
      "text/plain": [
       "0.06327913996970747"
      ]
     },
     "execution_count": 23,
     "metadata": {},
     "output_type": "execute_result"
    }
   ],
   "source": [
    "model = Net() # model 생성\n",
    "model.load_state_dict(th.load('mnist.pt')) # best model 불러오기\n",
    "test(model, test_loader, th.device('cuda' if th.cuda.is_available() else 'cpu')) # test"
   ]
  },
  {
   "cell_type": "code",
   "execution_count": 24,
   "metadata": {},
   "outputs": [
    {
     "name": "stdout",
     "output_type": "stream",
     "text": [
      "Net(\n",
      "  (fc1): Linear(in_features=784, out_features=256, bias=True)\n",
      "  (fc2): Linear(in_features=256, out_features=64, bias=True)\n",
      "  (fc3): Linear(in_features=64, out_features=10, bias=True)\n",
      ")\n",
      "\n",
      "Test set: Average loss: 0.0633, Accuracy: 9818/10000 (98.18%)\n",
      "\n"
     ]
    },
    {
     "data": {
      "text/plain": [
       "0.06327913996970747"
      ]
     },
     "execution_count": 24,
     "metadata": {},
     "output_type": "execute_result"
    }
   ],
   "source": [
    "best_model = history[0] # history[0]에 best model 저장\n",
    "print(best_model)\n",
    "test(best_model, test_loader, th.device('cuda' if th.cuda.is_available() else 'cpu'))"
   ]
  },
  {
   "cell_type": "code",
   "execution_count": 25,
   "metadata": {},
   "outputs": [],
   "source": [
    "pred_ys = best_model(th.stack([test_dataset[i][0] for i in range(len(test_dataset))]).to(device)).argmax(dim = 1).cpu().numpy() # test dataset의 예측값"
   ]
  },
  {
   "cell_type": "code",
   "execution_count": 26,
   "metadata": {},
   "outputs": [
    {
     "data": {
      "text/plain": [
       "0.9834"
      ]
     },
     "execution_count": 26,
     "metadata": {},
     "output_type": "execute_result"
    }
   ],
   "source": [
    "(pred_ys == np.array([test_dataset[i][1] for i in range(len(test_dataset))])).sum() / len(test_dataset) # test dataset의 accuracy"
   ]
  },
  {
   "cell_type": "code",
   "execution_count": 27,
   "metadata": {},
   "outputs": [
    {
     "data": {
      "image/png": "[encoded data removed]",
      "text/plain": [
       "<Figure size 432x288 with 1 Axes>"
      ]
     },
     "metadata": {
      "needs_background": "light"
     },
     "output_type": "display_data"
    }
   ],
   "source": [
    "plt.imshow(test_dataset[1004][0].squeeze(), cmap='gray')\n",
    "plt.title(f'Label: {pred_ys[1004]}')\n",
    "plt.show()"
   ]
  },
  {
   "attachments": {},
   "cell_type": "markdown",
   "metadata": {},
   "source": [
    "## Pytorch Lightning"
   ]
  },
  {
   "cell_type": "code",
   "execution_count": 1,
   "metadata": {},
   "outputs": [],
   "source": [
    "import torch as th\n",
    "from torch import nn\n",
    "from torch.nn import functional as F\n",
    "from torch.utils.data import DataLoader, random_split\n",
    "from torchmetrics import Accuracy # Accuracy 계산해주는 metric\n",
    "from torchvision import transforms\n",
    "from torchvision.datasets import MNIST\n",
    "\n",
    "\n",
    "from pytorch_lightning import LightningModule, Trainer # LightningModule: pytorch model을 wrapping해주는 class\n",
    "from pytorch_lightning.callbacks.progress.tqdm_progress import TQDMProgressBar\n",
    "from pytorch_lightning.loggers import TensorBoardLogger"
   ]
  },
  {
   "cell_type": "code",
   "execution_count": 2,
   "metadata": {},
   "outputs": [],
   "source": [
    "import warnings\n",
    "warnings.filterwarnings('ignore', '.*does not have many workers.*')"
   ]
  },
  {
   "cell_type": "code",
   "execution_count": 3,
   "metadata": {},
   "outputs": [],
   "source": [
    "import os\n",
    "\n",
    "# find DATASET_PATH from environment variable, if not, use './data'\n",
    "DATASET_PATH = os.environ.get('DATASET_PATH', './data')\n",
    "BATCH_SIZE = 256 if th.cuda.is_available() else 64"
   ]
  },
  {
   "cell_type": "code",
   "execution_count": 10,
   "metadata": {},
   "outputs": [],
   "source": [
    "class LitMNISTModel(LightningModule):\n",
    "    def __init__(self, \n",
    "                data_dir: str = DATASET_PATH, # data_dir: dataset이 저장되어 있는 경로 (loader에서 사용하기 위해서)\n",
    "                hidden_dim: int = 128, # hidden_dim: hidden layer의 dimension\n",
    "                learning_rate: float = 2e-4):\n",
    "        \n",
    "        super().__init__()\n",
    "        self.hidden_dim = hidden_dim \n",
    "        self.num_classes = 10\n",
    "        self.learning_rate = learning_rate\n",
    "        \n",
    "        self.input_dims = (1, 28, 28) # input image의 dimension\n",
    "        self.transform = transforms.Compose([ # transform: image를 어떻게 변환할지 정의\n",
    "            transforms.ToTensor(), # image를 tensor로 변환\n",
    "            transforms.Normalize((0.1307,), (0.3081,)) # image를 normalize(평균, 표준편차)\n",
    "        ])\n",
    "        \n",
    "        channels, width, height = self.input_dims # input image의 dimension을 각각 channels, width, height로 저장\n",
    "        self.model = nn.Sequential(\n",
    "            nn.Flatten(),\n",
    "            nn.Linear(channels * width * height, hidden_dim),\n",
    "            nn.ReLU(),\n",
    "            nn.Dropout(0.1),\n",
    "            nn.Linear(hidden_dim, hidden_dim),\n",
    "            nn.ReLU(),\n",
    "            nn.Dropout(0.1),\n",
    "            nn.Linear(hidden_dim, self.num_classes),\n",
    "        )\n",
    "        \n",
    "        self.val_acc = Accuracy(task='multiclass', # val_acc: validation accuracy를 계산하기 위한 metric, multiclass classification을 위한 metric, num_classes: class의 개수\n",
    "                                num_classes=self.num_classes)\n",
    "        self.test_acc = Accuracy(task='multiclass',\n",
    "                                num_classes=self.num_classes)\n",
    "\n",
    "    def forward(self, x):\n",
    "        x = self.model(x)\n",
    "        out = F.log_softmax(x, dim=1)\n",
    "        return out\n",
    "\n",
    "    def training_step(self, batch, batch_idx):\n",
    "        x, y = batch # batch: (x, y) tuple, 데이터 불러오기\n",
    "        logits = self(x) # == self.forward(x), output 지정\n",
    "        loss = F.nll_loss(logits, y) # loss function 지정\n",
    "        self.log('train_loss', loss) # log: tensorboard에 loss를 기록\n",
    "        return loss\n",
    "\n",
    "    def validation_step(self, batch, batch_idx):\n",
    "        x, y = batch\n",
    "        logits = self(x)\n",
    "        loss = F.nll_loss(logits, y)\n",
    "        preds = th.argmax(logits, dim=1)\n",
    "        self.val_acc.update(preds, y) # update: metric(valudation acc)을 update\n",
    "        \n",
    "        self.log('val_loss', loss, prog_bar=True)\n",
    "        self.log('val_acc', self.val_acc, prog_bar=True)\n",
    "\n",
    "    def test_step(self, batch, batch_idx):\n",
    "        x, y = batch\n",
    "        logits = self(x)\n",
    "        loss = F.nll_loss(logits, y)\n",
    "        preds = th.argmax(logits, dim=1)\n",
    "        self.test_acc.update(preds, y)\n",
    "        \n",
    "        self.log('test_loss', loss, prog_bar=True)\n",
    "        self.log('test_acc', self.test_acc, prog_bar=True)\n",
    "\n",
    "    def configure_optimizers(self):\n",
    "        optimizer = th.optim.Adam(self.parameters(), lr=self.learning_rate) # optimizer(Adam) 지정\n",
    "        return optimizer\n",
    "\n",
    "    def prepare_data(self):\n",
    "        MNIST(DATASET_PATH, train=True, download=True)\n",
    "        MNIST(DATASET_PATH, train=False, download=True)\n",
    "\n",
    "    def setup(self, stage=None): # stage: fit, test, predict 중 하나\n",
    "        if stage == 'fit' or stage is None: # fit: train, validation set 만들기\n",
    "            mnist_train = MNIST(DATASET_PATH, train=True, transform=self.transform)\n",
    "            self.mnist_train, self.mnist_val = random_split(mnist_train, [55000, 5000])\n",
    "            \n",
    "        if stage == 'test' or stage is None: # test: test set 만들기\n",
    "            self.mnist_test = MNIST(DATASET_PATH, train=False, transform=self.transform)\n",
    "\n",
    "    def train_dataloader(self):\n",
    "        return DataLoader(self.mnist_train, batch_size=BATCH_SIZE, shuffle=True)\n",
    "\n",
    "    def val_dataloader(self):\n",
    "        return DataLoader(self.mnist_val, batch_size=BATCH_SIZE, shuffle=False)\n",
    "\n",
    "    def test_dataloader(self):\n",
    "        return DataLoader(self.mnist_test, batch_size=BATCH_SIZE, shuffle=False)"
   ]
  },
  {
   "cell_type": "code",
   "execution_count": 11,
   "metadata": {},
   "outputs": [
    {
     "name": "stderr",
     "output_type": "stream",
     "text": [
      "GPU available: True (mps), used: True\n",
      "TPU available: False, using: 0 TPU cores\n",
      "IPU available: False, using: 0 IPUs\n",
      "HPU available: False, using: 0 HPUs\n",
      "\n",
      "  | Name     | Type               | Params\n",
      "------------------------------------------------\n",
      "0 | model    | Sequential         | 269 K \n",
      "1 | val_acc  | MulticlassAccuracy | 0     \n",
      "2 | test_acc | MulticlassAccuracy | 0     \n",
      "------------------------------------------------\n",
      "269 K     Trainable params\n",
      "0         Non-trainable params\n",
      "269 K     Total params\n",
      "1.077     Total estimated model params size (MB)\n"
     ]
    },
    {
     "data": {
      "application/vnd.jupyter.widget-view+json": {
       "model_id": "11e59c41ba10494786cf5bce07ed1ea5",
       "version_major": 2,
       "version_minor": 0
      },
      "text/plain": [
       "Sanity Checking: 0it [00:00, ?it/s]"
      ]
     },
     "metadata": {},
     "output_type": "display_data"
    },
    {
     "ename": "NotImplementedError",
     "evalue": "The operator 'aten::_unique2' is not currently implemented for the MPS device. If you want this op to be added in priority during the prototype phase of this feature, please comment on https://github.com/pytorch/pytorch/issues/77764. As a temporary fix, you can set the environment variable `PYTORCH_ENABLE_MPS_FALLBACK=1` to use the CPU as a fallback for this op. WARNING: this will be slower than running natively on MPS.",
     "output_type": "error",
     "traceback": [
      "\u001b[0;31m---------------------------------------------------------------------------\u001b[0m",
      "\u001b[0;31mNotImplementedError\u001b[0m                       Traceback (most recent call last)",
      "Cell \u001b[0;32mIn[11], line 9\u001b[0m\n\u001b[1;32m      1\u001b[0m model \u001b[39m=\u001b[39m LitMNISTModel(hidden_dim\u001b[39m=\u001b[39m\u001b[39m256\u001b[39m, learning_rate\u001b[39m=\u001b[39m\u001b[39m2e-4\u001b[39m)\n\u001b[1;32m      3\u001b[0m trainer \u001b[39m=\u001b[39m Trainer(accelerator\u001b[39m=\u001b[39m\u001b[39m'\u001b[39m\u001b[39mmps\u001b[39m\u001b[39m'\u001b[39m, \u001b[39m# mps: multi-processing strategy, multi-gpu를 사용할 때 사용(for mac), \u001b[39;00m\n\u001b[1;32m      4\u001b[0m                 devices\u001b[39m=\u001b[39m\u001b[39m1\u001b[39m,\n\u001b[1;32m      5\u001b[0m                 max_epochs\u001b[39m=\u001b[39m\u001b[39m5\u001b[39m,\n\u001b[1;32m      6\u001b[0m                 callbacks\u001b[39m=\u001b[39m[TQDMProgressBar(refresh_rate\u001b[39m=\u001b[39m\u001b[39m20\u001b[39m)],\n\u001b[1;32m      7\u001b[0m                 logger\u001b[39m=\u001b[39mTensorBoardLogger(\u001b[39m'\u001b[39m\u001b[39mlightning_logs\u001b[39m\u001b[39m'\u001b[39m, name\u001b[39m=\u001b[39m\u001b[39m'\u001b[39m\u001b[39mmnist\u001b[39m\u001b[39m'\u001b[39m))\n\u001b[0;32m----> 9\u001b[0m trainer\u001b[39m.\u001b[39;49mfit(model\u001b[39m=\u001b[39;49mmodel)\n",
      "File \u001b[0;32m~/opt/anaconda3/envs/basicstudy/lib/python3.8/site-packages/pytorch_lightning/trainer/trainer.py:608\u001b[0m, in \u001b[0;36mTrainer.fit\u001b[0;34m(self, model, train_dataloaders, val_dataloaders, datamodule, ckpt_path)\u001b[0m\n\u001b[1;32m    606\u001b[0m     \u001b[39mraise\u001b[39;00m \u001b[39mTypeError\u001b[39;00m(\u001b[39mf\u001b[39m\u001b[39m\"\u001b[39m\u001b[39m`Trainer.fit()` requires a `LightningModule`, got: \u001b[39m\u001b[39m{\u001b[39;00mmodel\u001b[39m.\u001b[39m\u001b[39m__class__\u001b[39m\u001b[39m.\u001b[39m\u001b[39m__qualname__\u001b[39m\u001b[39m}\u001b[39;00m\u001b[39m\"\u001b[39m)\n\u001b[1;32m    607\u001b[0m \u001b[39mself\u001b[39m\u001b[39m.\u001b[39mstrategy\u001b[39m.\u001b[39m_lightning_module \u001b[39m=\u001b[39m model\n\u001b[0;32m--> 608\u001b[0m call\u001b[39m.\u001b[39;49m_call_and_handle_interrupt(\n\u001b[1;32m    609\u001b[0m     \u001b[39mself\u001b[39;49m, \u001b[39mself\u001b[39;49m\u001b[39m.\u001b[39;49m_fit_impl, model, train_dataloaders, val_dataloaders, datamodule, ckpt_path\n\u001b[1;32m    610\u001b[0m )\n",
      "File \u001b[0;32m~/opt/anaconda3/envs/basicstudy/lib/python3.8/site-packages/pytorch_lightning/trainer/call.py:38\u001b[0m, in \u001b[0;36m_call_and_handle_interrupt\u001b[0;34m(trainer, trainer_fn, *args, **kwargs)\u001b[0m\n\u001b[1;32m     36\u001b[0m         \u001b[39mreturn\u001b[39;00m trainer\u001b[39m.\u001b[39mstrategy\u001b[39m.\u001b[39mlauncher\u001b[39m.\u001b[39mlaunch(trainer_fn, \u001b[39m*\u001b[39margs, trainer\u001b[39m=\u001b[39mtrainer, \u001b[39m*\u001b[39m\u001b[39m*\u001b[39mkwargs)\n\u001b[1;32m     37\u001b[0m     \u001b[39melse\u001b[39;00m:\n\u001b[0;32m---> 38\u001b[0m         \u001b[39mreturn\u001b[39;00m trainer_fn(\u001b[39m*\u001b[39;49margs, \u001b[39m*\u001b[39;49m\u001b[39m*\u001b[39;49mkwargs)\n\u001b[1;32m     40\u001b[0m \u001b[39mexcept\u001b[39;00m _TunerExitException:\n\u001b[1;32m     41\u001b[0m     trainer\u001b[39m.\u001b[39m_call_teardown_hook()\n",
      "File \u001b[0;32m~/opt/anaconda3/envs/basicstudy/lib/python3.8/site-packages/pytorch_lightning/trainer/trainer.py:650\u001b[0m, in \u001b[0;36mTrainer._fit_impl\u001b[0;34m(self, model, train_dataloaders, val_dataloaders, datamodule, ckpt_path)\u001b[0m\n\u001b[1;32m    643\u001b[0m ckpt_path \u001b[39m=\u001b[39m ckpt_path \u001b[39mor\u001b[39;00m \u001b[39mself\u001b[39m\u001b[39m.\u001b[39mresume_from_checkpoint\n\u001b[1;32m    644\u001b[0m \u001b[39mself\u001b[39m\u001b[39m.\u001b[39m_ckpt_path \u001b[39m=\u001b[39m \u001b[39mself\u001b[39m\u001b[39m.\u001b[39m_checkpoint_connector\u001b[39m.\u001b[39m_set_ckpt_path(\n\u001b[1;32m    645\u001b[0m     \u001b[39mself\u001b[39m\u001b[39m.\u001b[39mstate\u001b[39m.\u001b[39mfn,\n\u001b[1;32m    646\u001b[0m     ckpt_path,  \u001b[39m# type: ignore[arg-type]\u001b[39;00m\n\u001b[1;32m    647\u001b[0m     model_provided\u001b[39m=\u001b[39m\u001b[39mTrue\u001b[39;00m,\n\u001b[1;32m    648\u001b[0m     model_connected\u001b[39m=\u001b[39m\u001b[39mself\u001b[39m\u001b[39m.\u001b[39mlightning_module \u001b[39mis\u001b[39;00m \u001b[39mnot\u001b[39;00m \u001b[39mNone\u001b[39;00m,\n\u001b[1;32m    649\u001b[0m )\n\u001b[0;32m--> 650\u001b[0m \u001b[39mself\u001b[39;49m\u001b[39m.\u001b[39;49m_run(model, ckpt_path\u001b[39m=\u001b[39;49m\u001b[39mself\u001b[39;49m\u001b[39m.\u001b[39;49mckpt_path)\n\u001b[1;32m    652\u001b[0m \u001b[39massert\u001b[39;00m \u001b[39mself\u001b[39m\u001b[39m.\u001b[39mstate\u001b[39m.\u001b[39mstopped\n\u001b[1;32m    653\u001b[0m \u001b[39mself\u001b[39m\u001b[39m.\u001b[39mtraining \u001b[39m=\u001b[39m \u001b[39mFalse\u001b[39;00m\n",
      "File \u001b[0;32m~/opt/anaconda3/envs/basicstudy/lib/python3.8/site-packages/pytorch_lightning/trainer/trainer.py:1103\u001b[0m, in \u001b[0;36mTrainer._run\u001b[0;34m(self, model, ckpt_path)\u001b[0m\n\u001b[1;32m   1099\u001b[0m \u001b[39mself\u001b[39m\u001b[39m.\u001b[39m_checkpoint_connector\u001b[39m.\u001b[39mrestore_training_state()\n\u001b[1;32m   1101\u001b[0m \u001b[39mself\u001b[39m\u001b[39m.\u001b[39m_checkpoint_connector\u001b[39m.\u001b[39mresume_end()\n\u001b[0;32m-> 1103\u001b[0m results \u001b[39m=\u001b[39m \u001b[39mself\u001b[39;49m\u001b[39m.\u001b[39;49m_run_stage()\n\u001b[1;32m   1105\u001b[0m log\u001b[39m.\u001b[39mdetail(\u001b[39mf\u001b[39m\u001b[39m\"\u001b[39m\u001b[39m{\u001b[39;00m\u001b[39mself\u001b[39m\u001b[39m.\u001b[39m\u001b[39m__class__\u001b[39m\u001b[39m.\u001b[39m\u001b[39m__name__\u001b[39m\u001b[39m}\u001b[39;00m\u001b[39m: trainer tearing down\u001b[39m\u001b[39m\"\u001b[39m)\n\u001b[1;32m   1106\u001b[0m \u001b[39mself\u001b[39m\u001b[39m.\u001b[39m_teardown()\n",
      "File \u001b[0;32m~/opt/anaconda3/envs/basicstudy/lib/python3.8/site-packages/pytorch_lightning/trainer/trainer.py:1182\u001b[0m, in \u001b[0;36mTrainer._run_stage\u001b[0;34m(self)\u001b[0m\n\u001b[1;32m   1180\u001b[0m \u001b[39mif\u001b[39;00m \u001b[39mself\u001b[39m\u001b[39m.\u001b[39mpredicting:\n\u001b[1;32m   1181\u001b[0m     \u001b[39mreturn\u001b[39;00m \u001b[39mself\u001b[39m\u001b[39m.\u001b[39m_run_predict()\n\u001b[0;32m-> 1182\u001b[0m \u001b[39mself\u001b[39;49m\u001b[39m.\u001b[39;49m_run_train()\n",
      "File \u001b[0;32m~/opt/anaconda3/envs/basicstudy/lib/python3.8/site-packages/pytorch_lightning/trainer/trainer.py:1195\u001b[0m, in \u001b[0;36mTrainer._run_train\u001b[0;34m(self)\u001b[0m\n\u001b[1;32m   1192\u001b[0m \u001b[39mself\u001b[39m\u001b[39m.\u001b[39m_pre_training_routine()\n\u001b[1;32m   1194\u001b[0m \u001b[39mwith\u001b[39;00m isolate_rng():\n\u001b[0;32m-> 1195\u001b[0m     \u001b[39mself\u001b[39;49m\u001b[39m.\u001b[39;49m_run_sanity_check()\n\u001b[1;32m   1197\u001b[0m \u001b[39m# enable train mode\u001b[39;00m\n\u001b[1;32m   1198\u001b[0m \u001b[39massert\u001b[39;00m \u001b[39mself\u001b[39m\u001b[39m.\u001b[39mmodel \u001b[39mis\u001b[39;00m \u001b[39mnot\u001b[39;00m \u001b[39mNone\u001b[39;00m\n",
      "File \u001b[0;32m~/opt/anaconda3/envs/basicstudy/lib/python3.8/site-packages/pytorch_lightning/trainer/trainer.py:1267\u001b[0m, in \u001b[0;36mTrainer._run_sanity_check\u001b[0;34m(self)\u001b[0m\n\u001b[1;32m   1265\u001b[0m \u001b[39m# run eval step\u001b[39;00m\n\u001b[1;32m   1266\u001b[0m \u001b[39mwith\u001b[39;00m torch\u001b[39m.\u001b[39mno_grad():\n\u001b[0;32m-> 1267\u001b[0m     val_loop\u001b[39m.\u001b[39;49mrun()\n\u001b[1;32m   1269\u001b[0m \u001b[39mself\u001b[39m\u001b[39m.\u001b[39m_call_callback_hooks(\u001b[39m\"\u001b[39m\u001b[39mon_sanity_check_end\u001b[39m\u001b[39m\"\u001b[39m)\n\u001b[1;32m   1271\u001b[0m \u001b[39m# reset logger connector\u001b[39;00m\n",
      "File \u001b[0;32m~/opt/anaconda3/envs/basicstudy/lib/python3.8/site-packages/pytorch_lightning/loops/loop.py:199\u001b[0m, in \u001b[0;36mLoop.run\u001b[0;34m(self, *args, **kwargs)\u001b[0m\n\u001b[1;32m    197\u001b[0m \u001b[39mtry\u001b[39;00m:\n\u001b[1;32m    198\u001b[0m     \u001b[39mself\u001b[39m\u001b[39m.\u001b[39mon_advance_start(\u001b[39m*\u001b[39margs, \u001b[39m*\u001b[39m\u001b[39m*\u001b[39mkwargs)\n\u001b[0;32m--> 199\u001b[0m     \u001b[39mself\u001b[39;49m\u001b[39m.\u001b[39;49madvance(\u001b[39m*\u001b[39;49margs, \u001b[39m*\u001b[39;49m\u001b[39m*\u001b[39;49mkwargs)\n\u001b[1;32m    200\u001b[0m     \u001b[39mself\u001b[39m\u001b[39m.\u001b[39mon_advance_end()\n\u001b[1;32m    201\u001b[0m     \u001b[39mself\u001b[39m\u001b[39m.\u001b[39m_restarting \u001b[39m=\u001b[39m \u001b[39mFalse\u001b[39;00m\n",
      "File \u001b[0;32m~/opt/anaconda3/envs/basicstudy/lib/python3.8/site-packages/pytorch_lightning/loops/dataloader/evaluation_loop.py:152\u001b[0m, in \u001b[0;36mEvaluationLoop.advance\u001b[0;34m(self, *args, **kwargs)\u001b[0m\n\u001b[1;32m    150\u001b[0m \u001b[39mif\u001b[39;00m \u001b[39mself\u001b[39m\u001b[39m.\u001b[39mnum_dataloaders \u001b[39m>\u001b[39m \u001b[39m1\u001b[39m:\n\u001b[1;32m    151\u001b[0m     kwargs[\u001b[39m\"\u001b[39m\u001b[39mdataloader_idx\u001b[39m\u001b[39m\"\u001b[39m] \u001b[39m=\u001b[39m dataloader_idx\n\u001b[0;32m--> 152\u001b[0m dl_outputs \u001b[39m=\u001b[39m \u001b[39mself\u001b[39;49m\u001b[39m.\u001b[39;49mepoch_loop\u001b[39m.\u001b[39;49mrun(\u001b[39mself\u001b[39;49m\u001b[39m.\u001b[39;49m_data_fetcher, dl_max_batches, kwargs)\n\u001b[1;32m    154\u001b[0m \u001b[39m# store batch level output per dataloader\u001b[39;00m\n\u001b[1;32m    155\u001b[0m \u001b[39mself\u001b[39m\u001b[39m.\u001b[39m_outputs\u001b[39m.\u001b[39mappend(dl_outputs)\n",
      "File \u001b[0;32m~/opt/anaconda3/envs/basicstudy/lib/python3.8/site-packages/pytorch_lightning/loops/loop.py:199\u001b[0m, in \u001b[0;36mLoop.run\u001b[0;34m(self, *args, **kwargs)\u001b[0m\n\u001b[1;32m    197\u001b[0m \u001b[39mtry\u001b[39;00m:\n\u001b[1;32m    198\u001b[0m     \u001b[39mself\u001b[39m\u001b[39m.\u001b[39mon_advance_start(\u001b[39m*\u001b[39margs, \u001b[39m*\u001b[39m\u001b[39m*\u001b[39mkwargs)\n\u001b[0;32m--> 199\u001b[0m     \u001b[39mself\u001b[39;49m\u001b[39m.\u001b[39;49madvance(\u001b[39m*\u001b[39;49margs, \u001b[39m*\u001b[39;49m\u001b[39m*\u001b[39;49mkwargs)\n\u001b[1;32m    200\u001b[0m     \u001b[39mself\u001b[39m\u001b[39m.\u001b[39mon_advance_end()\n\u001b[1;32m    201\u001b[0m     \u001b[39mself\u001b[39m\u001b[39m.\u001b[39m_restarting \u001b[39m=\u001b[39m \u001b[39mFalse\u001b[39;00m\n",
      "File \u001b[0;32m~/opt/anaconda3/envs/basicstudy/lib/python3.8/site-packages/pytorch_lightning/loops/epoch/evaluation_epoch_loop.py:137\u001b[0m, in \u001b[0;36mEvaluationEpochLoop.advance\u001b[0;34m(self, data_fetcher, dl_max_batches, kwargs)\u001b[0m\n\u001b[1;32m    134\u001b[0m \u001b[39mself\u001b[39m\u001b[39m.\u001b[39mbatch_progress\u001b[39m.\u001b[39mincrement_started()\n\u001b[1;32m    136\u001b[0m \u001b[39m# lightning module methods\u001b[39;00m\n\u001b[0;32m--> 137\u001b[0m output \u001b[39m=\u001b[39m \u001b[39mself\u001b[39;49m\u001b[39m.\u001b[39;49m_evaluation_step(\u001b[39m*\u001b[39;49m\u001b[39m*\u001b[39;49mkwargs)\n\u001b[1;32m    138\u001b[0m output \u001b[39m=\u001b[39m \u001b[39mself\u001b[39m\u001b[39m.\u001b[39m_evaluation_step_end(output)\n\u001b[1;32m    140\u001b[0m \u001b[39mself\u001b[39m\u001b[39m.\u001b[39mbatch_progress\u001b[39m.\u001b[39mincrement_processed()\n",
      "File \u001b[0;32m~/opt/anaconda3/envs/basicstudy/lib/python3.8/site-packages/pytorch_lightning/loops/epoch/evaluation_epoch_loop.py:234\u001b[0m, in \u001b[0;36mEvaluationEpochLoop._evaluation_step\u001b[0;34m(self, **kwargs)\u001b[0m\n\u001b[1;32m    223\u001b[0m \u001b[39m\u001b[39m\u001b[39m\"\"\"The evaluation step (validation_step or test_step depending on the trainer's state).\u001b[39;00m\n\u001b[1;32m    224\u001b[0m \n\u001b[1;32m    225\u001b[0m \u001b[39mArgs:\u001b[39;00m\n\u001b[0;32m   (...)\u001b[0m\n\u001b[1;32m    231\u001b[0m \u001b[39m    the outputs of the step\u001b[39;00m\n\u001b[1;32m    232\u001b[0m \u001b[39m\"\"\"\u001b[39;00m\n\u001b[1;32m    233\u001b[0m hook_name \u001b[39m=\u001b[39m \u001b[39m\"\u001b[39m\u001b[39mtest_step\u001b[39m\u001b[39m\"\u001b[39m \u001b[39mif\u001b[39;00m \u001b[39mself\u001b[39m\u001b[39m.\u001b[39mtrainer\u001b[39m.\u001b[39mtesting \u001b[39melse\u001b[39;00m \u001b[39m\"\u001b[39m\u001b[39mvalidation_step\u001b[39m\u001b[39m\"\u001b[39m\n\u001b[0;32m--> 234\u001b[0m output \u001b[39m=\u001b[39m \u001b[39mself\u001b[39;49m\u001b[39m.\u001b[39;49mtrainer\u001b[39m.\u001b[39;49m_call_strategy_hook(hook_name, \u001b[39m*\u001b[39;49mkwargs\u001b[39m.\u001b[39;49mvalues())\n\u001b[1;32m    236\u001b[0m \u001b[39mreturn\u001b[39;00m output\n",
      "File \u001b[0;32m~/opt/anaconda3/envs/basicstudy/lib/python3.8/site-packages/pytorch_lightning/trainer/trainer.py:1485\u001b[0m, in \u001b[0;36mTrainer._call_strategy_hook\u001b[0;34m(self, hook_name, *args, **kwargs)\u001b[0m\n\u001b[1;32m   1482\u001b[0m     \u001b[39mreturn\u001b[39;00m\n\u001b[1;32m   1484\u001b[0m \u001b[39mwith\u001b[39;00m \u001b[39mself\u001b[39m\u001b[39m.\u001b[39mprofiler\u001b[39m.\u001b[39mprofile(\u001b[39mf\u001b[39m\u001b[39m\"\u001b[39m\u001b[39m[Strategy]\u001b[39m\u001b[39m{\u001b[39;00m\u001b[39mself\u001b[39m\u001b[39m.\u001b[39mstrategy\u001b[39m.\u001b[39m\u001b[39m__class__\u001b[39m\u001b[39m.\u001b[39m\u001b[39m__name__\u001b[39m\u001b[39m}\u001b[39;00m\u001b[39m.\u001b[39m\u001b[39m{\u001b[39;00mhook_name\u001b[39m}\u001b[39;00m\u001b[39m\"\u001b[39m):\n\u001b[0;32m-> 1485\u001b[0m     output \u001b[39m=\u001b[39m fn(\u001b[39m*\u001b[39;49margs, \u001b[39m*\u001b[39;49m\u001b[39m*\u001b[39;49mkwargs)\n\u001b[1;32m   1487\u001b[0m \u001b[39m# restore current_fx when nested context\u001b[39;00m\n\u001b[1;32m   1488\u001b[0m pl_module\u001b[39m.\u001b[39m_current_fx_name \u001b[39m=\u001b[39m prev_fx_name\n",
      "File \u001b[0;32m~/opt/anaconda3/envs/basicstudy/lib/python3.8/site-packages/pytorch_lightning/strategies/strategy.py:390\u001b[0m, in \u001b[0;36mStrategy.validation_step\u001b[0;34m(self, *args, **kwargs)\u001b[0m\n\u001b[1;32m    388\u001b[0m \u001b[39mwith\u001b[39;00m \u001b[39mself\u001b[39m\u001b[39m.\u001b[39mprecision_plugin\u001b[39m.\u001b[39mval_step_context():\n\u001b[1;32m    389\u001b[0m     \u001b[39massert\u001b[39;00m \u001b[39misinstance\u001b[39m(\u001b[39mself\u001b[39m\u001b[39m.\u001b[39mmodel, ValidationStep)\n\u001b[0;32m--> 390\u001b[0m     \u001b[39mreturn\u001b[39;00m \u001b[39mself\u001b[39;49m\u001b[39m.\u001b[39;49mmodel\u001b[39m.\u001b[39;49mvalidation_step(\u001b[39m*\u001b[39;49margs, \u001b[39m*\u001b[39;49m\u001b[39m*\u001b[39;49mkwargs)\n",
      "Cell \u001b[0;32mIn[10], line 52\u001b[0m, in \u001b[0;36mLitMNISTModel.validation_step\u001b[0;34m(self, batch, batch_idx)\u001b[0m\n\u001b[1;32m     50\u001b[0m loss \u001b[39m=\u001b[39m F\u001b[39m.\u001b[39mnll_loss(logits, y)\n\u001b[1;32m     51\u001b[0m preds \u001b[39m=\u001b[39m th\u001b[39m.\u001b[39margmax(logits, dim\u001b[39m=\u001b[39m\u001b[39m1\u001b[39m)\n\u001b[0;32m---> 52\u001b[0m \u001b[39mself\u001b[39;49m\u001b[39m.\u001b[39;49mval_acc\u001b[39m.\u001b[39;49mupdate(preds, y) \u001b[39m# update: metric(valudation acc)을 update\u001b[39;00m\n\u001b[1;32m     54\u001b[0m \u001b[39mself\u001b[39m\u001b[39m.\u001b[39mlog(\u001b[39m'\u001b[39m\u001b[39mval_loss\u001b[39m\u001b[39m'\u001b[39m, loss, prog_bar\u001b[39m=\u001b[39m\u001b[39mTrue\u001b[39;00m)\n\u001b[1;32m     55\u001b[0m \u001b[39mself\u001b[39m\u001b[39m.\u001b[39mlog(\u001b[39m'\u001b[39m\u001b[39mval_acc\u001b[39m\u001b[39m'\u001b[39m, \u001b[39mself\u001b[39m\u001b[39m.\u001b[39mval_acc, prog_bar\u001b[39m=\u001b[39m\u001b[39mTrue\u001b[39;00m)\n",
      "File \u001b[0;32m~/opt/anaconda3/envs/basicstudy/lib/python3.8/site-packages/torchmetrics/metric.py:399\u001b[0m, in \u001b[0;36mMetric._wrap_update.<locals>.wrapped_func\u001b[0;34m(*args, **kwargs)\u001b[0m\n\u001b[1;32m    391\u001b[0m         \u001b[39mif\u001b[39;00m \u001b[39m\"\u001b[39m\u001b[39mExpected all tensors to be on\u001b[39m\u001b[39m\"\u001b[39m \u001b[39min\u001b[39;00m \u001b[39mstr\u001b[39m(err):\n\u001b[1;32m    392\u001b[0m             \u001b[39mraise\u001b[39;00m \u001b[39mRuntimeError\u001b[39;00m(\n\u001b[1;32m    393\u001b[0m                 \u001b[39m\"\u001b[39m\u001b[39mEncountered different devices in metric calculation (see stacktrace for details).\u001b[39m\u001b[39m\"\u001b[39m\n\u001b[1;32m    394\u001b[0m                 \u001b[39m\"\u001b[39m\u001b[39m This could be due to the metric class not being on the same device as input.\u001b[39m\u001b[39m\"\u001b[39m\n\u001b[0;32m   (...)\u001b[0m\n\u001b[1;32m    397\u001b[0m                 \u001b[39m\"\u001b[39m\u001b[39m device corresponds to the device of the input.\u001b[39m\u001b[39m\"\u001b[39m\n\u001b[1;32m    398\u001b[0m             ) \u001b[39mfrom\u001b[39;00m \u001b[39merr\u001b[39;00m\n\u001b[0;32m--> 399\u001b[0m         \u001b[39mraise\u001b[39;00m err\n\u001b[1;32m    401\u001b[0m \u001b[39mif\u001b[39;00m \u001b[39mself\u001b[39m\u001b[39m.\u001b[39mcompute_on_cpu:\n\u001b[1;32m    402\u001b[0m     \u001b[39mself\u001b[39m\u001b[39m.\u001b[39m_move_list_states_to_cpu()\n",
      "File \u001b[0;32m~/opt/anaconda3/envs/basicstudy/lib/python3.8/site-packages/torchmetrics/metric.py:389\u001b[0m, in \u001b[0;36mMetric._wrap_update.<locals>.wrapped_func\u001b[0;34m(*args, **kwargs)\u001b[0m\n\u001b[1;32m    387\u001b[0m \u001b[39mwith\u001b[39;00m torch\u001b[39m.\u001b[39mset_grad_enabled(\u001b[39mself\u001b[39m\u001b[39m.\u001b[39m_enable_grad):\n\u001b[1;32m    388\u001b[0m     \u001b[39mtry\u001b[39;00m:\n\u001b[0;32m--> 389\u001b[0m         update(\u001b[39m*\u001b[39;49margs, \u001b[39m*\u001b[39;49m\u001b[39m*\u001b[39;49mkwargs)\n\u001b[1;32m    390\u001b[0m     \u001b[39mexcept\u001b[39;00m \u001b[39mRuntimeError\u001b[39;00m \u001b[39mas\u001b[39;00m err:\n\u001b[1;32m    391\u001b[0m         \u001b[39mif\u001b[39;00m \u001b[39m\"\u001b[39m\u001b[39mExpected all tensors to be on\u001b[39m\u001b[39m\"\u001b[39m \u001b[39min\u001b[39;00m \u001b[39mstr\u001b[39m(err):\n",
      "File \u001b[0;32m~/opt/anaconda3/envs/basicstudy/lib/python3.8/site-packages/torchmetrics/classification/stat_scores.py:315\u001b[0m, in \u001b[0;36mMulticlassStatScores.update\u001b[0;34m(self, preds, target)\u001b[0m\n\u001b[1;32m    313\u001b[0m \u001b[39m\u001b[39m\u001b[39m\"\"\"Update state with predictions and targets.\"\"\"\u001b[39;00m\n\u001b[1;32m    314\u001b[0m \u001b[39mif\u001b[39;00m \u001b[39mself\u001b[39m\u001b[39m.\u001b[39mvalidate_args:\n\u001b[0;32m--> 315\u001b[0m     _multiclass_stat_scores_tensor_validation(\n\u001b[1;32m    316\u001b[0m         preds, target, \u001b[39mself\u001b[39;49m\u001b[39m.\u001b[39;49mnum_classes, \u001b[39mself\u001b[39;49m\u001b[39m.\u001b[39;49mmultidim_average, \u001b[39mself\u001b[39;49m\u001b[39m.\u001b[39;49mignore_index\n\u001b[1;32m    317\u001b[0m     )\n\u001b[1;32m    318\u001b[0m preds, target \u001b[39m=\u001b[39m _multiclass_stat_scores_format(preds, target, \u001b[39mself\u001b[39m\u001b[39m.\u001b[39mtop_k)\n\u001b[1;32m    319\u001b[0m tp, fp, tn, fn \u001b[39m=\u001b[39m _multiclass_stat_scores_update(\n\u001b[1;32m    320\u001b[0m     preds, target, \u001b[39mself\u001b[39m\u001b[39m.\u001b[39mnum_classes, \u001b[39mself\u001b[39m\u001b[39m.\u001b[39mtop_k, \u001b[39mself\u001b[39m\u001b[39m.\u001b[39maverage, \u001b[39mself\u001b[39m\u001b[39m.\u001b[39mmultidim_average, \u001b[39mself\u001b[39m\u001b[39m.\u001b[39mignore_index\n\u001b[1;32m    321\u001b[0m )\n",
      "File \u001b[0;32m~/opt/anaconda3/envs/basicstudy/lib/python3.8/site-packages/torchmetrics/functional/classification/stat_scores.py:303\u001b[0m, in \u001b[0;36m_multiclass_stat_scores_tensor_validation\u001b[0;34m(preds, target, num_classes, multidim_average, ignore_index)\u001b[0m\n\u001b[1;32m    297\u001b[0m \u001b[39melse\u001b[39;00m:\n\u001b[1;32m    298\u001b[0m     \u001b[39mraise\u001b[39;00m \u001b[39mValueError\u001b[39;00m(\n\u001b[1;32m    299\u001b[0m         \u001b[39m\"\u001b[39m\u001b[39mEither `preds` and `target` both should have the (same) shape (N, ...), or `target` should be (N, ...)\u001b[39m\u001b[39m\"\u001b[39m\n\u001b[1;32m    300\u001b[0m         \u001b[39m\"\u001b[39m\u001b[39m and `preds` should be (N, C, ...).\u001b[39m\u001b[39m\"\u001b[39m\n\u001b[1;32m    301\u001b[0m     )\n\u001b[0;32m--> 303\u001b[0m num_unique_values \u001b[39m=\u001b[39m \u001b[39mlen\u001b[39m(torch\u001b[39m.\u001b[39;49munique(target))\n\u001b[1;32m    304\u001b[0m \u001b[39mif\u001b[39;00m ignore_index \u001b[39mis\u001b[39;00m \u001b[39mNone\u001b[39;00m:\n\u001b[1;32m    305\u001b[0m     check \u001b[39m=\u001b[39m num_unique_values \u001b[39m>\u001b[39m num_classes\n",
      "File \u001b[0;32m~/opt/anaconda3/envs/basicstudy/lib/python3.8/site-packages/torch/_jit_internal.py:485\u001b[0m, in \u001b[0;36mboolean_dispatch.<locals>.fn\u001b[0;34m(*args, **kwargs)\u001b[0m\n\u001b[1;32m    483\u001b[0m     \u001b[39mreturn\u001b[39;00m if_true(\u001b[39m*\u001b[39margs, \u001b[39m*\u001b[39m\u001b[39m*\u001b[39mkwargs)\n\u001b[1;32m    484\u001b[0m \u001b[39melse\u001b[39;00m:\n\u001b[0;32m--> 485\u001b[0m     \u001b[39mreturn\u001b[39;00m if_false(\u001b[39m*\u001b[39;49margs, \u001b[39m*\u001b[39;49m\u001b[39m*\u001b[39;49mkwargs)\n",
      "File \u001b[0;32m~/opt/anaconda3/envs/basicstudy/lib/python3.8/site-packages/torch/_jit_internal.py:485\u001b[0m, in \u001b[0;36mboolean_dispatch.<locals>.fn\u001b[0;34m(*args, **kwargs)\u001b[0m\n\u001b[1;32m    483\u001b[0m     \u001b[39mreturn\u001b[39;00m if_true(\u001b[39m*\u001b[39margs, \u001b[39m*\u001b[39m\u001b[39m*\u001b[39mkwargs)\n\u001b[1;32m    484\u001b[0m \u001b[39melse\u001b[39;00m:\n\u001b[0;32m--> 485\u001b[0m     \u001b[39mreturn\u001b[39;00m if_false(\u001b[39m*\u001b[39;49margs, \u001b[39m*\u001b[39;49m\u001b[39m*\u001b[39;49mkwargs)\n",
      "File \u001b[0;32m~/opt/anaconda3/envs/basicstudy/lib/python3.8/site-packages/torch/functional.py:877\u001b[0m, in \u001b[0;36m_return_output\u001b[0;34m(input, sorted, return_inverse, return_counts, dim)\u001b[0m\n\u001b[1;32m    874\u001b[0m \u001b[39mif\u001b[39;00m has_torch_function_unary(\u001b[39minput\u001b[39m):\n\u001b[1;32m    875\u001b[0m     \u001b[39mreturn\u001b[39;00m _unique_impl(\u001b[39minput\u001b[39m, \u001b[39msorted\u001b[39m, return_inverse, return_counts, dim)\n\u001b[0;32m--> 877\u001b[0m output, _, _ \u001b[39m=\u001b[39m _unique_impl(\u001b[39minput\u001b[39;49m, \u001b[39msorted\u001b[39;49m, return_inverse, return_counts, dim)\n\u001b[1;32m    878\u001b[0m \u001b[39mreturn\u001b[39;00m output\n",
      "File \u001b[0;32m~/opt/anaconda3/envs/basicstudy/lib/python3.8/site-packages/torch/functional.py:791\u001b[0m, in \u001b[0;36m_unique_impl\u001b[0;34m(input, sorted, return_inverse, return_counts, dim)\u001b[0m\n\u001b[1;32m    783\u001b[0m     output, inverse_indices, counts \u001b[39m=\u001b[39m _VF\u001b[39m.\u001b[39munique_dim(\n\u001b[1;32m    784\u001b[0m         \u001b[39minput\u001b[39m,\n\u001b[1;32m    785\u001b[0m         dim,\n\u001b[0;32m   (...)\u001b[0m\n\u001b[1;32m    788\u001b[0m         return_counts\u001b[39m=\u001b[39mreturn_counts,\n\u001b[1;32m    789\u001b[0m     )\n\u001b[1;32m    790\u001b[0m \u001b[39melse\u001b[39;00m:\n\u001b[0;32m--> 791\u001b[0m     output, inverse_indices, counts \u001b[39m=\u001b[39m torch\u001b[39m.\u001b[39;49m_unique2(\n\u001b[1;32m    792\u001b[0m         \u001b[39minput\u001b[39;49m,\n\u001b[1;32m    793\u001b[0m         \u001b[39msorted\u001b[39;49m\u001b[39m=\u001b[39;49m\u001b[39msorted\u001b[39;49m,\n\u001b[1;32m    794\u001b[0m         return_inverse\u001b[39m=\u001b[39;49mreturn_inverse,\n\u001b[1;32m    795\u001b[0m         return_counts\u001b[39m=\u001b[39;49mreturn_counts,\n\u001b[1;32m    796\u001b[0m     )\n\u001b[1;32m    797\u001b[0m \u001b[39mreturn\u001b[39;00m output, inverse_indices, counts\n",
      "\u001b[0;31mNotImplementedError\u001b[0m: The operator 'aten::_unique2' is not currently implemented for the MPS device. If you want this op to be added in priority during the prototype phase of this feature, please comment on https://github.com/pytorch/pytorch/issues/77764. As a temporary fix, you can set the environment variable `PYTORCH_ENABLE_MPS_FALLBACK=1` to use the CPU as a fallback for this op. WARNING: this will be slower than running natively on MPS."
     ]
    }
   ],
   "source": [
    "model = LitMNISTModel(hidden_dim=256, learning_rate=2e-4)\n",
    "\n",
    "trainer = Trainer(accelerator='mps', # mps: multi-processing strategy, multi-gpu를 사용할 때 사용(for mac), \n",
    "                devices=1,\n",
    "                max_epochs=5,\n",
    "                callbacks=[TQDMProgressBar(refresh_rate=20)],\n",
    "                logger=TensorBoardLogger('lightning_logs', name='mnist'))\n",
    "\n",
    "trainer.fit(model=model)"
   ]
  },
  {
   "cell_type": "markdown",
   "metadata": {},
   "source": []
  },
  {
   "cell_type": "code",
   "execution_count": null,
   "metadata": {},
   "outputs": [],
   "source": [
    "trainer.test()"
   ]
  }
 ],
 "metadata": {
  "kernelspec": {
   "display_name": "basicstudy",
   "language": "python",
   "name": "python3"
  },
  "language_info": {
   "codemirror_mode": {
    "name": "ipython",
    "version": 3
   },
   "file_extension": ".py",
   "mimetype": "text/x-python",
   "name": "python",
   "nbconvert_exporter": "python",
   "pygments_lexer": "ipython3",
   "version": "3.8.16"
  },
  "orig_nbformat": 4,
  "vscode": {
   "interpreter": {
    "hash": "9860fa0492e540ab156d86493a07ae08252682abc63881db291e8eb6322c310b"
   }
  }
 },
 "nbformat": 4,
 "nbformat_minor": 2
}
